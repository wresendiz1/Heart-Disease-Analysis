{
  "cells": [
    {
      "attachments": {},
      "cell_type": "markdown",
      "id": "531ecc6a",
      "metadata": {
        "id": "531ecc6a"
      },
      "source": [
        "# Heart Disease Data Set"
      ]
    },
    {
      "attachments": {},
      "cell_type": "markdown",
      "id": "fd61e85d",
      "metadata": {
        "id": "fd61e85d"
      },
      "source": [
        "Reading in the data set"
      ]
    },
    {
      "cell_type": "code",
      "execution_count": 101,
      "id": "478d1edd",
      "metadata": {
        "colab": {
          "base_uri": "https://localhost:8080/"
        },
        "id": "478d1edd",
        "outputId": "d65b8816-eb8e-4362-a86f-87fa40655cd9"
      },
      "outputs": [
        {
          "name": "stdout",
          "output_type": "stream",
          "text": [
            "%pylab is deprecated, use %matplotlib inline and import the required libraries.\n",
            "Populating the interactive namespace from numpy and matplotlib\n"
          ]
        },
        {
          "name": "stderr",
          "output_type": "stream",
          "text": [
            "C:\\Users\\resen\\AppData\\Roaming\\Python\\Python311\\site-packages\\IPython\\core\\magics\\pylab.py:162: UserWarning: pylab import has clobbered these variables: ['info']\n",
            "`%matplotlib` prevents importing * from pylab and numpy\n",
            "  warn(\"pylab import has clobbered these variables: %s\"  % clobbered +\n"
          ]
        }
      ],
      "source": [
        "# import needed libraries \n",
        "from pandas import Series, DataFrame\n",
        "from patsy import dmatrices\n",
        "from sklearn.model_selection import train_test_split\n",
        "from sklearn.linear_model import LogisticRegression\n",
        "from sklearn import metrics\n",
        "import numpy as np\n",
        "import pandas as pd\n",
        "import matplotlib.pyplot as plt\n",
        "%pylab inline"
      ]
    },
    {
      "cell_type": "code",
      "execution_count": 102,
      "id": "ab629e5a",
      "metadata": {
        "colab": {
          "base_uri": "https://localhost:8080/",
          "height": 287
        },
        "id": "ab629e5a",
        "outputId": "24800f1c-de7c-4ff3-8d10-94997f01a5bf"
      },
      "outputs": [
        {
          "data": {
            "text/html": [
              "<div>\n",
              "<style scoped>\n",
              "    .dataframe tbody tr th:only-of-type {\n",
              "        vertical-align: middle;\n",
              "    }\n",
              "\n",
              "    .dataframe tbody tr th {\n",
              "        vertical-align: top;\n",
              "    }\n",
              "\n",
              "    .dataframe thead th {\n",
              "        text-align: right;\n",
              "    }\n",
              "</style>\n",
              "<table border=\"1\" class=\"dataframe\">\n",
              "  <thead>\n",
              "    <tr style=\"text-align: right;\">\n",
              "      <th></th>\n",
              "      <th>Gender</th>\n",
              "      <th>age</th>\n",
              "      <th>education</th>\n",
              "      <th>currentSmoker</th>\n",
              "      <th>cigsPerDay</th>\n",
              "      <th>BPMeds</th>\n",
              "      <th>prevalentStroke</th>\n",
              "      <th>prevalentHyp</th>\n",
              "      <th>diabetes</th>\n",
              "      <th>totChol</th>\n",
              "      <th>sysBP</th>\n",
              "      <th>diaBP</th>\n",
              "      <th>BMI</th>\n",
              "      <th>heartRate</th>\n",
              "      <th>glucose</th>\n",
              "      <th>Heart_ stroke</th>\n",
              "    </tr>\n",
              "  </thead>\n",
              "  <tbody>\n",
              "    <tr>\n",
              "      <th>0</th>\n",
              "      <td>Male</td>\n",
              "      <td>39</td>\n",
              "      <td>postgraduate</td>\n",
              "      <td>0</td>\n",
              "      <td>0.0</td>\n",
              "      <td>0.0</td>\n",
              "      <td>no</td>\n",
              "      <td>0</td>\n",
              "      <td>0</td>\n",
              "      <td>195.0</td>\n",
              "      <td>106.0</td>\n",
              "      <td>70.0</td>\n",
              "      <td>26.97</td>\n",
              "      <td>80.0</td>\n",
              "      <td>77.0</td>\n",
              "      <td>No</td>\n",
              "    </tr>\n",
              "    <tr>\n",
              "      <th>1</th>\n",
              "      <td>Female</td>\n",
              "      <td>46</td>\n",
              "      <td>primaryschool</td>\n",
              "      <td>0</td>\n",
              "      <td>0.0</td>\n",
              "      <td>0.0</td>\n",
              "      <td>no</td>\n",
              "      <td>0</td>\n",
              "      <td>0</td>\n",
              "      <td>250.0</td>\n",
              "      <td>121.0</td>\n",
              "      <td>81.0</td>\n",
              "      <td>28.73</td>\n",
              "      <td>95.0</td>\n",
              "      <td>76.0</td>\n",
              "      <td>No</td>\n",
              "    </tr>\n",
              "    <tr>\n",
              "      <th>2</th>\n",
              "      <td>Male</td>\n",
              "      <td>48</td>\n",
              "      <td>uneducated</td>\n",
              "      <td>1</td>\n",
              "      <td>20.0</td>\n",
              "      <td>0.0</td>\n",
              "      <td>no</td>\n",
              "      <td>0</td>\n",
              "      <td>0</td>\n",
              "      <td>245.0</td>\n",
              "      <td>127.5</td>\n",
              "      <td>80.0</td>\n",
              "      <td>25.34</td>\n",
              "      <td>75.0</td>\n",
              "      <td>70.0</td>\n",
              "      <td>No</td>\n",
              "    </tr>\n",
              "    <tr>\n",
              "      <th>3</th>\n",
              "      <td>Female</td>\n",
              "      <td>61</td>\n",
              "      <td>graduate</td>\n",
              "      <td>1</td>\n",
              "      <td>30.0</td>\n",
              "      <td>0.0</td>\n",
              "      <td>no</td>\n",
              "      <td>1</td>\n",
              "      <td>0</td>\n",
              "      <td>225.0</td>\n",
              "      <td>150.0</td>\n",
              "      <td>95.0</td>\n",
              "      <td>28.58</td>\n",
              "      <td>65.0</td>\n",
              "      <td>103.0</td>\n",
              "      <td>yes</td>\n",
              "    </tr>\n",
              "    <tr>\n",
              "      <th>4</th>\n",
              "      <td>Female</td>\n",
              "      <td>46</td>\n",
              "      <td>graduate</td>\n",
              "      <td>1</td>\n",
              "      <td>23.0</td>\n",
              "      <td>0.0</td>\n",
              "      <td>no</td>\n",
              "      <td>0</td>\n",
              "      <td>0</td>\n",
              "      <td>285.0</td>\n",
              "      <td>130.0</td>\n",
              "      <td>84.0</td>\n",
              "      <td>23.10</td>\n",
              "      <td>85.0</td>\n",
              "      <td>85.0</td>\n",
              "      <td>No</td>\n",
              "    </tr>\n",
              "  </tbody>\n",
              "</table>\n",
              "</div>"
            ],
            "text/plain": [
              "   Gender  age      education  currentSmoker  cigsPerDay  BPMeds   \n",
              "0    Male   39   postgraduate              0         0.0     0.0  \\\n",
              "1  Female   46  primaryschool              0         0.0     0.0   \n",
              "2    Male   48     uneducated              1        20.0     0.0   \n",
              "3  Female   61       graduate              1        30.0     0.0   \n",
              "4  Female   46       graduate              1        23.0     0.0   \n",
              "\n",
              "  prevalentStroke  prevalentHyp  diabetes  totChol  sysBP  diaBP    BMI   \n",
              "0              no             0         0    195.0  106.0   70.0  26.97  \\\n",
              "1              no             0         0    250.0  121.0   81.0  28.73   \n",
              "2              no             0         0    245.0  127.5   80.0  25.34   \n",
              "3              no             1         0    225.0  150.0   95.0  28.58   \n",
              "4              no             0         0    285.0  130.0   84.0  23.10   \n",
              "\n",
              "   heartRate  glucose Heart_ stroke  \n",
              "0       80.0     77.0            No  \n",
              "1       95.0     76.0            No  \n",
              "2       75.0     70.0            No  \n",
              "3       65.0    103.0           yes  \n",
              "4       85.0     85.0            No  "
            ]
          },
          "execution_count": 102,
          "metadata": {},
          "output_type": "execute_result"
        }
      ],
      "source": [
        "# read in data frame \n",
        "df=pd.read_csv(\"https://raw.githubusercontent.com/wresendiz1/MIS-373/main/heart_disease.csv\")\n",
        "df.head()"
      ]
    },
    {
      "cell_type": "code",
      "execution_count": 103,
      "id": "fa1b6007",
      "metadata": {
        "colab": {
          "base_uri": "https://localhost:8080/"
        },
        "id": "fa1b6007",
        "outputId": "c246e35a-117b-4d11-df98-7d08c6e37807"
      },
      "outputs": [
        {
          "data": {
            "text/plain": [
              "(4238, 16)"
            ]
          },
          "execution_count": 103,
          "metadata": {},
          "output_type": "execute_result"
        }
      ],
      "source": [
        "df.shape"
      ]
    },
    {
      "attachments": {},
      "cell_type": "markdown",
      "id": "ab9ec6a0",
      "metadata": {
        "id": "ab9ec6a0"
      },
      "source": [
        "The dataframe has 4238 records and 16 features "
      ]
    },
    {
      "cell_type": "code",
      "execution_count": 104,
      "id": "dfc67254",
      "metadata": {
        "colab": {
          "base_uri": "https://localhost:8080/"
        },
        "id": "dfc67254",
        "outputId": "a6ea0e6b-811d-43db-966d-3a3f655f6e30"
      },
      "outputs": [
        {
          "data": {
            "text/plain": [
              "(3656, 16)"
            ]
          },
          "execution_count": 104,
          "metadata": {},
          "output_type": "execute_result"
        }
      ],
      "source": [
        "# drop null values \n",
        "df = df.dropna()\n",
        "df.shape"
      ]
    },
    {
      "attachments": {},
      "cell_type": "markdown",
      "id": "a205cbfa",
      "metadata": {
        "id": "a205cbfa"
      },
      "source": [
        "After dropping null values, the data frame has 3656 records"
      ]
    },
    {
      "attachments": {},
      "cell_type": "markdown",
      "id": "e60faa59",
      "metadata": {
        "id": "e60faa59"
      },
      "source": [
        "Change prevalentStroke to a binary variable"
      ]
    },
    {
      "cell_type": "code",
      "execution_count": 105,
      "id": "2220a68c",
      "metadata": {
        "colab": {
          "base_uri": "https://localhost:8080/",
          "height": 444
        },
        "id": "2220a68c",
        "outputId": "aed3a583-5727-4b7a-a2b7-8b2711b504cc"
      },
      "outputs": [
        {
          "data": {
            "text/html": [
              "<div>\n",
              "<style scoped>\n",
              "    .dataframe tbody tr th:only-of-type {\n",
              "        vertical-align: middle;\n",
              "    }\n",
              "\n",
              "    .dataframe tbody tr th {\n",
              "        vertical-align: top;\n",
              "    }\n",
              "\n",
              "    .dataframe thead th {\n",
              "        text-align: right;\n",
              "    }\n",
              "</style>\n",
              "<table border=\"1\" class=\"dataframe\">\n",
              "  <thead>\n",
              "    <tr style=\"text-align: right;\">\n",
              "      <th></th>\n",
              "      <th>Gender</th>\n",
              "      <th>age</th>\n",
              "      <th>education</th>\n",
              "      <th>currentSmoker</th>\n",
              "      <th>cigsPerDay</th>\n",
              "      <th>BPMeds</th>\n",
              "      <th>prevalentStroke</th>\n",
              "      <th>prevalentHyp</th>\n",
              "      <th>diabetes</th>\n",
              "      <th>totChol</th>\n",
              "      <th>sysBP</th>\n",
              "      <th>diaBP</th>\n",
              "      <th>BMI</th>\n",
              "      <th>heartRate</th>\n",
              "      <th>glucose</th>\n",
              "      <th>Heart_ stroke</th>\n",
              "    </tr>\n",
              "  </thead>\n",
              "  <tbody>\n",
              "    <tr>\n",
              "      <th>0</th>\n",
              "      <td>Male</td>\n",
              "      <td>39</td>\n",
              "      <td>postgraduate</td>\n",
              "      <td>0</td>\n",
              "      <td>0.0</td>\n",
              "      <td>0.0</td>\n",
              "      <td>0</td>\n",
              "      <td>0</td>\n",
              "      <td>0</td>\n",
              "      <td>195.0</td>\n",
              "      <td>106.0</td>\n",
              "      <td>70.0</td>\n",
              "      <td>26.97</td>\n",
              "      <td>80.0</td>\n",
              "      <td>77.0</td>\n",
              "      <td>No</td>\n",
              "    </tr>\n",
              "    <tr>\n",
              "      <th>1</th>\n",
              "      <td>Female</td>\n",
              "      <td>46</td>\n",
              "      <td>primaryschool</td>\n",
              "      <td>0</td>\n",
              "      <td>0.0</td>\n",
              "      <td>0.0</td>\n",
              "      <td>0</td>\n",
              "      <td>0</td>\n",
              "      <td>0</td>\n",
              "      <td>250.0</td>\n",
              "      <td>121.0</td>\n",
              "      <td>81.0</td>\n",
              "      <td>28.73</td>\n",
              "      <td>95.0</td>\n",
              "      <td>76.0</td>\n",
              "      <td>No</td>\n",
              "    </tr>\n",
              "    <tr>\n",
              "      <th>2</th>\n",
              "      <td>Male</td>\n",
              "      <td>48</td>\n",
              "      <td>uneducated</td>\n",
              "      <td>1</td>\n",
              "      <td>20.0</td>\n",
              "      <td>0.0</td>\n",
              "      <td>0</td>\n",
              "      <td>0</td>\n",
              "      <td>0</td>\n",
              "      <td>245.0</td>\n",
              "      <td>127.5</td>\n",
              "      <td>80.0</td>\n",
              "      <td>25.34</td>\n",
              "      <td>75.0</td>\n",
              "      <td>70.0</td>\n",
              "      <td>No</td>\n",
              "    </tr>\n",
              "    <tr>\n",
              "      <th>3</th>\n",
              "      <td>Female</td>\n",
              "      <td>61</td>\n",
              "      <td>graduate</td>\n",
              "      <td>1</td>\n",
              "      <td>30.0</td>\n",
              "      <td>0.0</td>\n",
              "      <td>0</td>\n",
              "      <td>1</td>\n",
              "      <td>0</td>\n",
              "      <td>225.0</td>\n",
              "      <td>150.0</td>\n",
              "      <td>95.0</td>\n",
              "      <td>28.58</td>\n",
              "      <td>65.0</td>\n",
              "      <td>103.0</td>\n",
              "      <td>yes</td>\n",
              "    </tr>\n",
              "    <tr>\n",
              "      <th>4</th>\n",
              "      <td>Female</td>\n",
              "      <td>46</td>\n",
              "      <td>graduate</td>\n",
              "      <td>1</td>\n",
              "      <td>23.0</td>\n",
              "      <td>0.0</td>\n",
              "      <td>0</td>\n",
              "      <td>0</td>\n",
              "      <td>0</td>\n",
              "      <td>285.0</td>\n",
              "      <td>130.0</td>\n",
              "      <td>84.0</td>\n",
              "      <td>23.10</td>\n",
              "      <td>85.0</td>\n",
              "      <td>85.0</td>\n",
              "      <td>No</td>\n",
              "    </tr>\n",
              "    <tr>\n",
              "      <th>5</th>\n",
              "      <td>Female</td>\n",
              "      <td>43</td>\n",
              "      <td>primaryschool</td>\n",
              "      <td>0</td>\n",
              "      <td>0.0</td>\n",
              "      <td>0.0</td>\n",
              "      <td>0</td>\n",
              "      <td>1</td>\n",
              "      <td>0</td>\n",
              "      <td>228.0</td>\n",
              "      <td>180.0</td>\n",
              "      <td>110.0</td>\n",
              "      <td>30.30</td>\n",
              "      <td>77.0</td>\n",
              "      <td>99.0</td>\n",
              "      <td>No</td>\n",
              "    </tr>\n",
              "    <tr>\n",
              "      <th>6</th>\n",
              "      <td>Female</td>\n",
              "      <td>63</td>\n",
              "      <td>uneducated</td>\n",
              "      <td>0</td>\n",
              "      <td>0.0</td>\n",
              "      <td>0.0</td>\n",
              "      <td>0</td>\n",
              "      <td>0</td>\n",
              "      <td>0</td>\n",
              "      <td>205.0</td>\n",
              "      <td>138.0</td>\n",
              "      <td>71.0</td>\n",
              "      <td>33.11</td>\n",
              "      <td>60.0</td>\n",
              "      <td>85.0</td>\n",
              "      <td>yes</td>\n",
              "    </tr>\n",
              "    <tr>\n",
              "      <th>7</th>\n",
              "      <td>Female</td>\n",
              "      <td>45</td>\n",
              "      <td>primaryschool</td>\n",
              "      <td>1</td>\n",
              "      <td>20.0</td>\n",
              "      <td>0.0</td>\n",
              "      <td>0</td>\n",
              "      <td>0</td>\n",
              "      <td>0</td>\n",
              "      <td>313.0</td>\n",
              "      <td>100.0</td>\n",
              "      <td>71.0</td>\n",
              "      <td>21.68</td>\n",
              "      <td>79.0</td>\n",
              "      <td>78.0</td>\n",
              "      <td>No</td>\n",
              "    </tr>\n",
              "    <tr>\n",
              "      <th>8</th>\n",
              "      <td>Male</td>\n",
              "      <td>52</td>\n",
              "      <td>uneducated</td>\n",
              "      <td>0</td>\n",
              "      <td>0.0</td>\n",
              "      <td>0.0</td>\n",
              "      <td>0</td>\n",
              "      <td>1</td>\n",
              "      <td>0</td>\n",
              "      <td>260.0</td>\n",
              "      <td>141.5</td>\n",
              "      <td>89.0</td>\n",
              "      <td>26.36</td>\n",
              "      <td>76.0</td>\n",
              "      <td>79.0</td>\n",
              "      <td>No</td>\n",
              "    </tr>\n",
              "    <tr>\n",
              "      <th>9</th>\n",
              "      <td>Male</td>\n",
              "      <td>43</td>\n",
              "      <td>uneducated</td>\n",
              "      <td>1</td>\n",
              "      <td>30.0</td>\n",
              "      <td>0.0</td>\n",
              "      <td>0</td>\n",
              "      <td>1</td>\n",
              "      <td>0</td>\n",
              "      <td>225.0</td>\n",
              "      <td>162.0</td>\n",
              "      <td>107.0</td>\n",
              "      <td>23.61</td>\n",
              "      <td>93.0</td>\n",
              "      <td>88.0</td>\n",
              "      <td>No</td>\n",
              "    </tr>\n",
              "  </tbody>\n",
              "</table>\n",
              "</div>"
            ],
            "text/plain": [
              "   Gender  age      education  currentSmoker  cigsPerDay  BPMeds   \n",
              "0    Male   39   postgraduate              0         0.0     0.0  \\\n",
              "1  Female   46  primaryschool              0         0.0     0.0   \n",
              "2    Male   48     uneducated              1        20.0     0.0   \n",
              "3  Female   61       graduate              1        30.0     0.0   \n",
              "4  Female   46       graduate              1        23.0     0.0   \n",
              "5  Female   43  primaryschool              0         0.0     0.0   \n",
              "6  Female   63     uneducated              0         0.0     0.0   \n",
              "7  Female   45  primaryschool              1        20.0     0.0   \n",
              "8    Male   52     uneducated              0         0.0     0.0   \n",
              "9    Male   43     uneducated              1        30.0     0.0   \n",
              "\n",
              "   prevalentStroke  prevalentHyp  diabetes  totChol  sysBP  diaBP    BMI   \n",
              "0                0             0         0    195.0  106.0   70.0  26.97  \\\n",
              "1                0             0         0    250.0  121.0   81.0  28.73   \n",
              "2                0             0         0    245.0  127.5   80.0  25.34   \n",
              "3                0             1         0    225.0  150.0   95.0  28.58   \n",
              "4                0             0         0    285.0  130.0   84.0  23.10   \n",
              "5                0             1         0    228.0  180.0  110.0  30.30   \n",
              "6                0             0         0    205.0  138.0   71.0  33.11   \n",
              "7                0             0         0    313.0  100.0   71.0  21.68   \n",
              "8                0             1         0    260.0  141.5   89.0  26.36   \n",
              "9                0             1         0    225.0  162.0  107.0  23.61   \n",
              "\n",
              "   heartRate  glucose Heart_ stroke  \n",
              "0       80.0     77.0            No  \n",
              "1       95.0     76.0            No  \n",
              "2       75.0     70.0            No  \n",
              "3       65.0    103.0           yes  \n",
              "4       85.0     85.0            No  \n",
              "5       77.0     99.0            No  \n",
              "6       60.0     85.0           yes  \n",
              "7       79.0     78.0            No  \n",
              "8       76.0     79.0            No  \n",
              "9       93.0     88.0            No  "
            ]
          },
          "execution_count": 105,
          "metadata": {},
          "output_type": "execute_result"
        }
      ],
      "source": [
        "df.prevalentStroke.replace(('yes', 'no'), (1, 0), inplace=True)\n",
        "df[:10]"
      ]
    },
    {
      "attachments": {},
      "cell_type": "markdown",
      "id": "5rntvMPge-64",
      "metadata": {
        "id": "5rntvMPge-64"
      },
      "source": [
        "Let's add a binary target variable based on the Heart_stroke variable"
      ]
    },
    {
      "cell_type": "code",
      "execution_count": 106,
      "id": "bt35D0ehfE7A",
      "metadata": {
        "colab": {
          "base_uri": "https://localhost:8080/",
          "height": 374
        },
        "id": "bt35D0ehfE7A",
        "outputId": "b93eaa29-aa0b-4187-f1a9-cf43a307a4a7"
      },
      "outputs": [
        {
          "name": "stderr",
          "output_type": "stream",
          "text": [
            "C:\\Users\\resen\\AppData\\Local\\Temp\\ipykernel_23412\\993278713.py:2: SettingWithCopyWarning: \n",
            "A value is trying to be set on a copy of a slice from a DataFrame\n",
            "\n",
            "See the caveats in the documentation: https://pandas.pydata.org/pandas-docs/stable/user_guide/indexing.html#returning-a-view-versus-a-copy\n",
            "  df['target'][df['Heart_ stroke'] == 'yes'] = 1.0\n"
          ]
        },
        {
          "data": {
            "text/html": [
              "<div>\n",
              "<style scoped>\n",
              "    .dataframe tbody tr th:only-of-type {\n",
              "        vertical-align: middle;\n",
              "    }\n",
              "\n",
              "    .dataframe tbody tr th {\n",
              "        vertical-align: top;\n",
              "    }\n",
              "\n",
              "    .dataframe thead th {\n",
              "        text-align: right;\n",
              "    }\n",
              "</style>\n",
              "<table border=\"1\" class=\"dataframe\">\n",
              "  <thead>\n",
              "    <tr style=\"text-align: right;\">\n",
              "      <th></th>\n",
              "      <th>Gender</th>\n",
              "      <th>age</th>\n",
              "      <th>education</th>\n",
              "      <th>currentSmoker</th>\n",
              "      <th>cigsPerDay</th>\n",
              "      <th>BPMeds</th>\n",
              "      <th>prevalentStroke</th>\n",
              "      <th>prevalentHyp</th>\n",
              "      <th>diabetes</th>\n",
              "      <th>totChol</th>\n",
              "      <th>sysBP</th>\n",
              "      <th>diaBP</th>\n",
              "      <th>BMI</th>\n",
              "      <th>heartRate</th>\n",
              "      <th>glucose</th>\n",
              "      <th>Heart_ stroke</th>\n",
              "      <th>target</th>\n",
              "    </tr>\n",
              "  </thead>\n",
              "  <tbody>\n",
              "    <tr>\n",
              "      <th>0</th>\n",
              "      <td>Male</td>\n",
              "      <td>39</td>\n",
              "      <td>postgraduate</td>\n",
              "      <td>0</td>\n",
              "      <td>0.0</td>\n",
              "      <td>0.0</td>\n",
              "      <td>0</td>\n",
              "      <td>0</td>\n",
              "      <td>0</td>\n",
              "      <td>195.0</td>\n",
              "      <td>106.0</td>\n",
              "      <td>70.0</td>\n",
              "      <td>26.97</td>\n",
              "      <td>80.0</td>\n",
              "      <td>77.0</td>\n",
              "      <td>No</td>\n",
              "      <td>0</td>\n",
              "    </tr>\n",
              "    <tr>\n",
              "      <th>1</th>\n",
              "      <td>Female</td>\n",
              "      <td>46</td>\n",
              "      <td>primaryschool</td>\n",
              "      <td>0</td>\n",
              "      <td>0.0</td>\n",
              "      <td>0.0</td>\n",
              "      <td>0</td>\n",
              "      <td>0</td>\n",
              "      <td>0</td>\n",
              "      <td>250.0</td>\n",
              "      <td>121.0</td>\n",
              "      <td>81.0</td>\n",
              "      <td>28.73</td>\n",
              "      <td>95.0</td>\n",
              "      <td>76.0</td>\n",
              "      <td>No</td>\n",
              "      <td>0</td>\n",
              "    </tr>\n",
              "    <tr>\n",
              "      <th>2</th>\n",
              "      <td>Male</td>\n",
              "      <td>48</td>\n",
              "      <td>uneducated</td>\n",
              "      <td>1</td>\n",
              "      <td>20.0</td>\n",
              "      <td>0.0</td>\n",
              "      <td>0</td>\n",
              "      <td>0</td>\n",
              "      <td>0</td>\n",
              "      <td>245.0</td>\n",
              "      <td>127.5</td>\n",
              "      <td>80.0</td>\n",
              "      <td>25.34</td>\n",
              "      <td>75.0</td>\n",
              "      <td>70.0</td>\n",
              "      <td>No</td>\n",
              "      <td>0</td>\n",
              "    </tr>\n",
              "    <tr>\n",
              "      <th>3</th>\n",
              "      <td>Female</td>\n",
              "      <td>61</td>\n",
              "      <td>graduate</td>\n",
              "      <td>1</td>\n",
              "      <td>30.0</td>\n",
              "      <td>0.0</td>\n",
              "      <td>0</td>\n",
              "      <td>1</td>\n",
              "      <td>0</td>\n",
              "      <td>225.0</td>\n",
              "      <td>150.0</td>\n",
              "      <td>95.0</td>\n",
              "      <td>28.58</td>\n",
              "      <td>65.0</td>\n",
              "      <td>103.0</td>\n",
              "      <td>yes</td>\n",
              "      <td>1</td>\n",
              "    </tr>\n",
              "    <tr>\n",
              "      <th>4</th>\n",
              "      <td>Female</td>\n",
              "      <td>46</td>\n",
              "      <td>graduate</td>\n",
              "      <td>1</td>\n",
              "      <td>23.0</td>\n",
              "      <td>0.0</td>\n",
              "      <td>0</td>\n",
              "      <td>0</td>\n",
              "      <td>0</td>\n",
              "      <td>285.0</td>\n",
              "      <td>130.0</td>\n",
              "      <td>84.0</td>\n",
              "      <td>23.10</td>\n",
              "      <td>85.0</td>\n",
              "      <td>85.0</td>\n",
              "      <td>No</td>\n",
              "      <td>0</td>\n",
              "    </tr>\n",
              "  </tbody>\n",
              "</table>\n",
              "</div>"
            ],
            "text/plain": [
              "   Gender  age      education  currentSmoker  cigsPerDay  BPMeds   \n",
              "0    Male   39   postgraduate              0         0.0     0.0  \\\n",
              "1  Female   46  primaryschool              0         0.0     0.0   \n",
              "2    Male   48     uneducated              1        20.0     0.0   \n",
              "3  Female   61       graduate              1        30.0     0.0   \n",
              "4  Female   46       graduate              1        23.0     0.0   \n",
              "\n",
              "   prevalentStroke  prevalentHyp  diabetes  totChol  sysBP  diaBP    BMI   \n",
              "0                0             0         0    195.0  106.0   70.0  26.97  \\\n",
              "1                0             0         0    250.0  121.0   81.0  28.73   \n",
              "2                0             0         0    245.0  127.5   80.0  25.34   \n",
              "3                0             1         0    225.0  150.0   95.0  28.58   \n",
              "4                0             0         0    285.0  130.0   84.0  23.10   \n",
              "\n",
              "   heartRate  glucose Heart_ stroke  target  \n",
              "0       80.0     77.0            No       0  \n",
              "1       95.0     76.0            No       0  \n",
              "2       75.0     70.0            No       0  \n",
              "3       65.0    103.0           yes       1  \n",
              "4       85.0     85.0            No       0  "
            ]
          },
          "execution_count": 106,
          "metadata": {},
          "output_type": "execute_result"
        }
      ],
      "source": [
        "df['target'] = 0\n",
        "df['target'][df['Heart_ stroke'] == 'yes'] = 1.0\n",
        "df[:5]"
      ]
    },
    {
      "attachments": {},
      "cell_type": "markdown",
      "id": "71d147a7",
      "metadata": {
        "id": "71d147a7"
      },
      "source": [
        "# Exploratory Analysis"
      ]
    },
    {
      "attachments": {},
      "cell_type": "markdown",
      "id": "de57015e",
      "metadata": {
        "id": "de57015e"
      },
      "source": [
        "Let's look at the statistics of the numerical variables in the data frame"
      ]
    },
    {
      "cell_type": "code",
      "execution_count": 107,
      "id": "f576e51b",
      "metadata": {
        "colab": {
          "base_uri": "https://localhost:8080/",
          "height": 300
        },
        "id": "f576e51b",
        "outputId": "9564aac5-3074-4bf1-bc4f-f42d3f385266"
      },
      "outputs": [
        {
          "data": {
            "text/html": [
              "<div>\n",
              "<style scoped>\n",
              "    .dataframe tbody tr th:only-of-type {\n",
              "        vertical-align: middle;\n",
              "    }\n",
              "\n",
              "    .dataframe tbody tr th {\n",
              "        vertical-align: top;\n",
              "    }\n",
              "\n",
              "    .dataframe thead th {\n",
              "        text-align: right;\n",
              "    }\n",
              "</style>\n",
              "<table border=\"1\" class=\"dataframe\">\n",
              "  <thead>\n",
              "    <tr style=\"text-align: right;\">\n",
              "      <th></th>\n",
              "      <th>count</th>\n",
              "      <th>mean</th>\n",
              "      <th>std</th>\n",
              "      <th>min</th>\n",
              "      <th>25%</th>\n",
              "      <th>50%</th>\n",
              "      <th>75%</th>\n",
              "      <th>max</th>\n",
              "    </tr>\n",
              "  </thead>\n",
              "  <tbody>\n",
              "    <tr>\n",
              "      <th>age</th>\n",
              "      <td>3656.0</td>\n",
              "      <td>49.557440</td>\n",
              "      <td>8.561133</td>\n",
              "      <td>32.00</td>\n",
              "      <td>42.00</td>\n",
              "      <td>49.00</td>\n",
              "      <td>56.00</td>\n",
              "      <td>70.0</td>\n",
              "    </tr>\n",
              "    <tr>\n",
              "      <th>cigsPerDay</th>\n",
              "      <td>3656.0</td>\n",
              "      <td>9.022155</td>\n",
              "      <td>11.918869</td>\n",
              "      <td>0.00</td>\n",
              "      <td>0.00</td>\n",
              "      <td>0.00</td>\n",
              "      <td>20.00</td>\n",
              "      <td>70.0</td>\n",
              "    </tr>\n",
              "    <tr>\n",
              "      <th>totChol</th>\n",
              "      <td>3656.0</td>\n",
              "      <td>236.873085</td>\n",
              "      <td>44.096223</td>\n",
              "      <td>113.00</td>\n",
              "      <td>206.00</td>\n",
              "      <td>234.00</td>\n",
              "      <td>263.25</td>\n",
              "      <td>600.0</td>\n",
              "    </tr>\n",
              "    <tr>\n",
              "      <th>sysBP</th>\n",
              "      <td>3656.0</td>\n",
              "      <td>132.368025</td>\n",
              "      <td>22.092444</td>\n",
              "      <td>83.50</td>\n",
              "      <td>117.00</td>\n",
              "      <td>128.00</td>\n",
              "      <td>144.00</td>\n",
              "      <td>295.0</td>\n",
              "    </tr>\n",
              "    <tr>\n",
              "      <th>diaBP</th>\n",
              "      <td>3656.0</td>\n",
              "      <td>82.912062</td>\n",
              "      <td>11.974825</td>\n",
              "      <td>48.00</td>\n",
              "      <td>75.00</td>\n",
              "      <td>82.00</td>\n",
              "      <td>90.00</td>\n",
              "      <td>142.5</td>\n",
              "    </tr>\n",
              "    <tr>\n",
              "      <th>BMI</th>\n",
              "      <td>3656.0</td>\n",
              "      <td>25.784185</td>\n",
              "      <td>4.065913</td>\n",
              "      <td>15.54</td>\n",
              "      <td>23.08</td>\n",
              "      <td>25.38</td>\n",
              "      <td>28.04</td>\n",
              "      <td>56.8</td>\n",
              "    </tr>\n",
              "    <tr>\n",
              "      <th>heartRate</th>\n",
              "      <td>3656.0</td>\n",
              "      <td>75.730580</td>\n",
              "      <td>11.982952</td>\n",
              "      <td>44.00</td>\n",
              "      <td>68.00</td>\n",
              "      <td>75.00</td>\n",
              "      <td>82.00</td>\n",
              "      <td>143.0</td>\n",
              "    </tr>\n",
              "    <tr>\n",
              "      <th>glucose</th>\n",
              "      <td>3656.0</td>\n",
              "      <td>81.856127</td>\n",
              "      <td>23.910128</td>\n",
              "      <td>40.00</td>\n",
              "      <td>71.00</td>\n",
              "      <td>78.00</td>\n",
              "      <td>87.00</td>\n",
              "      <td>394.0</td>\n",
              "    </tr>\n",
              "  </tbody>\n",
              "</table>\n",
              "</div>"
            ],
            "text/plain": [
              "             count        mean        std     min     25%     50%     75%   \n",
              "age         3656.0   49.557440   8.561133   32.00   42.00   49.00   56.00  \\\n",
              "cigsPerDay  3656.0    9.022155  11.918869    0.00    0.00    0.00   20.00   \n",
              "totChol     3656.0  236.873085  44.096223  113.00  206.00  234.00  263.25   \n",
              "sysBP       3656.0  132.368025  22.092444   83.50  117.00  128.00  144.00   \n",
              "diaBP       3656.0   82.912062  11.974825   48.00   75.00   82.00   90.00   \n",
              "BMI         3656.0   25.784185   4.065913   15.54   23.08   25.38   28.04   \n",
              "heartRate   3656.0   75.730580  11.982952   44.00   68.00   75.00   82.00   \n",
              "glucose     3656.0   81.856127  23.910128   40.00   71.00   78.00   87.00   \n",
              "\n",
              "              max  \n",
              "age          70.0  \n",
              "cigsPerDay   70.0  \n",
              "totChol     600.0  \n",
              "sysBP       295.0  \n",
              "diaBP       142.5  \n",
              "BMI          56.8  \n",
              "heartRate   143.0  \n",
              "glucose     394.0  "
            ]
          },
          "execution_count": 107,
          "metadata": {},
          "output_type": "execute_result"
        }
      ],
      "source": [
        "df[['age', 'cigsPerDay', 'totChol', 'sysBP', 'diaBP', 'BMI','heartRate','glucose']].describe(include=[np.number]).T"
      ]
    },
    {
      "attachments": {},
      "cell_type": "markdown",
      "id": "5fd71e4c",
      "metadata": {
        "id": "5fd71e4c"
      },
      "source": [
        "Here's a summary of those who haven't had a stroke"
      ]
    },
    {
      "cell_type": "code",
      "execution_count": 108,
      "id": "7b241a4c",
      "metadata": {
        "colab": {
          "base_uri": "https://localhost:8080/",
          "height": 300
        },
        "id": "7b241a4c",
        "outputId": "c2f07222-8411-490f-ff5a-2561332aaac5"
      },
      "outputs": [
        {
          "data": {
            "text/html": [
              "<div>\n",
              "<style scoped>\n",
              "    .dataframe tbody tr th:only-of-type {\n",
              "        vertical-align: middle;\n",
              "    }\n",
              "\n",
              "    .dataframe tbody tr th {\n",
              "        vertical-align: top;\n",
              "    }\n",
              "\n",
              "    .dataframe thead th {\n",
              "        text-align: right;\n",
              "    }\n",
              "</style>\n",
              "<table border=\"1\" class=\"dataframe\">\n",
              "  <thead>\n",
              "    <tr style=\"text-align: right;\">\n",
              "      <th></th>\n",
              "      <th>count</th>\n",
              "      <th>mean</th>\n",
              "      <th>std</th>\n",
              "      <th>min</th>\n",
              "      <th>25%</th>\n",
              "      <th>50%</th>\n",
              "      <th>75%</th>\n",
              "      <th>max</th>\n",
              "    </tr>\n",
              "  </thead>\n",
              "  <tbody>\n",
              "    <tr>\n",
              "      <th>age</th>\n",
              "      <td>3099.0</td>\n",
              "      <td>48.708938</td>\n",
              "      <td>8.383279</td>\n",
              "      <td>32.00</td>\n",
              "      <td>42.00</td>\n",
              "      <td>48.00</td>\n",
              "      <td>55.00</td>\n",
              "      <td>70.00</td>\n",
              "    </tr>\n",
              "    <tr>\n",
              "      <th>cigsPerDay</th>\n",
              "      <td>3099.0</td>\n",
              "      <td>8.758632</td>\n",
              "      <td>11.715691</td>\n",
              "      <td>0.00</td>\n",
              "      <td>0.00</td>\n",
              "      <td>0.00</td>\n",
              "      <td>20.00</td>\n",
              "      <td>70.00</td>\n",
              "    </tr>\n",
              "    <tr>\n",
              "      <th>totChol</th>\n",
              "      <td>3099.0</td>\n",
              "      <td>235.169732</td>\n",
              "      <td>43.078009</td>\n",
              "      <td>113.00</td>\n",
              "      <td>205.00</td>\n",
              "      <td>232.00</td>\n",
              "      <td>261.00</td>\n",
              "      <td>453.00</td>\n",
              "    </tr>\n",
              "    <tr>\n",
              "      <th>sysBP</th>\n",
              "      <td>3099.0</td>\n",
              "      <td>130.280736</td>\n",
              "      <td>20.413624</td>\n",
              "      <td>83.50</td>\n",
              "      <td>116.00</td>\n",
              "      <td>127.00</td>\n",
              "      <td>141.00</td>\n",
              "      <td>243.00</td>\n",
              "    </tr>\n",
              "    <tr>\n",
              "      <th>diaBP</th>\n",
              "      <td>3099.0</td>\n",
              "      <td>82.148919</td>\n",
              "      <td>11.320205</td>\n",
              "      <td>52.00</td>\n",
              "      <td>74.00</td>\n",
              "      <td>81.00</td>\n",
              "      <td>88.00</td>\n",
              "      <td>142.50</td>\n",
              "    </tr>\n",
              "    <tr>\n",
              "      <th>BMI</th>\n",
              "      <td>3099.0</td>\n",
              "      <td>25.642975</td>\n",
              "      <td>3.965283</td>\n",
              "      <td>15.54</td>\n",
              "      <td>23.01</td>\n",
              "      <td>25.23</td>\n",
              "      <td>27.86</td>\n",
              "      <td>51.28</td>\n",
              "    </tr>\n",
              "    <tr>\n",
              "      <th>heartRate</th>\n",
              "      <td>3099.0</td>\n",
              "      <td>75.626331</td>\n",
              "      <td>11.953256</td>\n",
              "      <td>44.00</td>\n",
              "      <td>68.00</td>\n",
              "      <td>75.00</td>\n",
              "      <td>82.00</td>\n",
              "      <td>143.00</td>\n",
              "    </tr>\n",
              "    <tr>\n",
              "      <th>glucose</th>\n",
              "      <td>3099.0</td>\n",
              "      <td>80.620200</td>\n",
              "      <td>19.128713</td>\n",
              "      <td>40.00</td>\n",
              "      <td>71.00</td>\n",
              "      <td>78.00</td>\n",
              "      <td>86.00</td>\n",
              "      <td>386.00</td>\n",
              "    </tr>\n",
              "  </tbody>\n",
              "</table>\n",
              "</div>"
            ],
            "text/plain": [
              "             count        mean        std     min     25%     50%     75%   \n",
              "age         3099.0   48.708938   8.383279   32.00   42.00   48.00   55.00  \\\n",
              "cigsPerDay  3099.0    8.758632  11.715691    0.00    0.00    0.00   20.00   \n",
              "totChol     3099.0  235.169732  43.078009  113.00  205.00  232.00  261.00   \n",
              "sysBP       3099.0  130.280736  20.413624   83.50  116.00  127.00  141.00   \n",
              "diaBP       3099.0   82.148919  11.320205   52.00   74.00   81.00   88.00   \n",
              "BMI         3099.0   25.642975   3.965283   15.54   23.01   25.23   27.86   \n",
              "heartRate   3099.0   75.626331  11.953256   44.00   68.00   75.00   82.00   \n",
              "glucose     3099.0   80.620200  19.128713   40.00   71.00   78.00   86.00   \n",
              "\n",
              "               max  \n",
              "age          70.00  \n",
              "cigsPerDay   70.00  \n",
              "totChol     453.00  \n",
              "sysBP       243.00  \n",
              "diaBP       142.50  \n",
              "BMI          51.28  \n",
              "heartRate   143.00  \n",
              "glucose     386.00  "
            ]
          },
          "execution_count": 108,
          "metadata": {},
          "output_type": "execute_result"
        }
      ],
      "source": [
        "dfNo = df[df['target']==0]\n",
        "dfNoSummary = dfNo[['age', 'cigsPerDay', 'totChol', 'sysBP', 'diaBP', 'BMI','heartRate','glucose']].describe(include=[np.number]).T\n",
        "dfNoSummary"
      ]
    },
    {
      "attachments": {},
      "cell_type": "markdown",
      "id": "11cab428",
      "metadata": {
        "id": "11cab428"
      },
      "source": [
        "Here's a summary of those who have had a stroke"
      ]
    },
    {
      "cell_type": "code",
      "execution_count": 109,
      "id": "1a113547",
      "metadata": {
        "colab": {
          "base_uri": "https://localhost:8080/",
          "height": 277
        },
        "id": "1a113547",
        "outputId": "88e4a5b1-3d3c-41a3-bb37-7c56f0678f03"
      },
      "outputs": [
        {
          "data": {
            "text/html": [
              "<div>\n",
              "<style scoped>\n",
              "    .dataframe tbody tr th:only-of-type {\n",
              "        vertical-align: middle;\n",
              "    }\n",
              "\n",
              "    .dataframe tbody tr th {\n",
              "        vertical-align: top;\n",
              "    }\n",
              "\n",
              "    .dataframe thead th {\n",
              "        text-align: right;\n",
              "    }\n",
              "</style>\n",
              "<table border=\"1\" class=\"dataframe\">\n",
              "  <thead>\n",
              "    <tr style=\"text-align: right;\">\n",
              "      <th></th>\n",
              "      <th>count</th>\n",
              "      <th>mean</th>\n",
              "      <th>std</th>\n",
              "      <th>min</th>\n",
              "      <th>25%</th>\n",
              "      <th>50%</th>\n",
              "      <th>75%</th>\n",
              "      <th>max</th>\n",
              "    </tr>\n",
              "  </thead>\n",
              "  <tbody>\n",
              "    <tr>\n",
              "      <th>age</th>\n",
              "      <td>557.0</td>\n",
              "      <td>54.278276</td>\n",
              "      <td>7.992338</td>\n",
              "      <td>35.00</td>\n",
              "      <td>49.00</td>\n",
              "      <td>55.00</td>\n",
              "      <td>61.00</td>\n",
              "      <td>69.0</td>\n",
              "    </tr>\n",
              "    <tr>\n",
              "      <th>cigsPerDay</th>\n",
              "      <td>557.0</td>\n",
              "      <td>10.488330</td>\n",
              "      <td>12.904685</td>\n",
              "      <td>0.00</td>\n",
              "      <td>0.00</td>\n",
              "      <td>1.00</td>\n",
              "      <td>20.00</td>\n",
              "      <td>60.0</td>\n",
              "    </tr>\n",
              "    <tr>\n",
              "      <th>totChol</th>\n",
              "      <td>557.0</td>\n",
              "      <td>246.350090</td>\n",
              "      <td>48.336365</td>\n",
              "      <td>124.00</td>\n",
              "      <td>214.00</td>\n",
              "      <td>243.00</td>\n",
              "      <td>272.00</td>\n",
              "      <td>600.0</td>\n",
              "    </tr>\n",
              "    <tr>\n",
              "      <th>sysBP</th>\n",
              "      <td>557.0</td>\n",
              "      <td>143.981149</td>\n",
              "      <td>26.966224</td>\n",
              "      <td>83.50</td>\n",
              "      <td>125.00</td>\n",
              "      <td>139.00</td>\n",
              "      <td>159.00</td>\n",
              "      <td>295.0</td>\n",
              "    </tr>\n",
              "    <tr>\n",
              "      <th>diaBP</th>\n",
              "      <td>557.0</td>\n",
              "      <td>87.157989</td>\n",
              "      <td>14.398497</td>\n",
              "      <td>48.00</td>\n",
              "      <td>78.00</td>\n",
              "      <td>85.00</td>\n",
              "      <td>95.00</td>\n",
              "      <td>140.0</td>\n",
              "    </tr>\n",
              "    <tr>\n",
              "      <th>BMI</th>\n",
              "      <td>557.0</td>\n",
              "      <td>26.569838</td>\n",
              "      <td>4.509435</td>\n",
              "      <td>15.96</td>\n",
              "      <td>23.63</td>\n",
              "      <td>26.11</td>\n",
              "      <td>28.94</td>\n",
              "      <td>56.8</td>\n",
              "    </tr>\n",
              "    <tr>\n",
              "      <th>heartRate</th>\n",
              "      <td>557.0</td>\n",
              "      <td>76.310592</td>\n",
              "      <td>12.141349</td>\n",
              "      <td>50.00</td>\n",
              "      <td>68.00</td>\n",
              "      <td>75.00</td>\n",
              "      <td>84.00</td>\n",
              "      <td>120.0</td>\n",
              "    </tr>\n",
              "    <tr>\n",
              "      <th>glucose</th>\n",
              "      <td>557.0</td>\n",
              "      <td>88.732496</td>\n",
              "      <td>40.785655</td>\n",
              "      <td>40.00</td>\n",
              "      <td>72.00</td>\n",
              "      <td>79.00</td>\n",
              "      <td>90.00</td>\n",
              "      <td>394.0</td>\n",
              "    </tr>\n",
              "  </tbody>\n",
              "</table>\n",
              "</div>"
            ],
            "text/plain": [
              "            count        mean        std     min     25%     50%     75%   \n",
              "age         557.0   54.278276   7.992338   35.00   49.00   55.00   61.00  \\\n",
              "cigsPerDay  557.0   10.488330  12.904685    0.00    0.00    1.00   20.00   \n",
              "totChol     557.0  246.350090  48.336365  124.00  214.00  243.00  272.00   \n",
              "sysBP       557.0  143.981149  26.966224   83.50  125.00  139.00  159.00   \n",
              "diaBP       557.0   87.157989  14.398497   48.00   78.00   85.00   95.00   \n",
              "BMI         557.0   26.569838   4.509435   15.96   23.63   26.11   28.94   \n",
              "heartRate   557.0   76.310592  12.141349   50.00   68.00   75.00   84.00   \n",
              "glucose     557.0   88.732496  40.785655   40.00   72.00   79.00   90.00   \n",
              "\n",
              "              max  \n",
              "age          69.0  \n",
              "cigsPerDay   60.0  \n",
              "totChol     600.0  \n",
              "sysBP       295.0  \n",
              "diaBP       140.0  \n",
              "BMI          56.8  \n",
              "heartRate   120.0  \n",
              "glucose     394.0  "
            ]
          },
          "execution_count": 109,
          "metadata": {},
          "output_type": "execute_result"
        }
      ],
      "source": [
        "dfYes = df[df['target']==1]\n",
        "dfYesSummary = dfYes[['age', 'cigsPerDay', 'totChol', 'sysBP', 'diaBP', 'BMI','heartRate','glucose']].describe(include=[np.number]).T\n",
        "dfYesSummary"
      ]
    },
    {
      "attachments": {},
      "cell_type": "markdown",
      "id": "64b0c943",
      "metadata": {
        "id": "64b0c943"
      },
      "source": [
        "We can see that most features are higher for those with heart disease than without"
      ]
    },
    {
      "attachments": {},
      "cell_type": "markdown",
      "id": "65dadb4f",
      "metadata": {
        "id": "65dadb4f"
      },
      "source": [
        "Visualizing feature of stroke vs no stroke"
      ]
    },
    {
      "cell_type": "code",
      "execution_count": 110,
      "id": "511d758e",
      "metadata": {},
      "outputs": [],
      "source": [
        "# Slideshow Colors to use for visualizations\n",
        "primary = \"#00a4ca\"\n",
        "secondary = \"#0082a9\"\n",
        "tertiary = \"#8792df\"\n",
        "info = \"#e1e9eb\""
      ]
    },
    {
      "cell_type": "code",
      "execution_count": 111,
      "id": "dec158e6",
      "metadata": {
        "colab": {
          "base_uri": "https://localhost:8080/",
          "height": 507
        },
        "id": "dec158e6",
        "outputId": "4e5fea38-c5d4-4383-be93-a1fafd195030"
      },
      "outputs": [
        {
          "data": {
            "image/png": "[encoded data removed]",
            "text/plain": [
              "<Figure size 1000x500 with 1 Axes>"
            ]
          },
          "metadata": {},
          "output_type": "display_data"
        }
      ],
      "source": [
        "fig, ax = plt.subplots(figsize=(10, 5))\n",
        "\n",
        "bar_width = 0.35\n",
        "\n",
        "rects1 = ax.bar(np.arange(len(dfNoSummary)), dfNoSummary['mean'], width=bar_width, color=primary, label='No Disease')\n",
        "rects2 = ax.bar(np.arange(len(dfYesSummary)) + bar_width, dfYesSummary['mean'], width=bar_width, color=secondary, label='Disease')\n",
        "\n",
        "ax.set_xticks(np.arange(len(dfNoSummary)) + bar_width / 2)\n",
        "ax.set_xticklabels(dfNoSummary.index)\n",
        "\n",
        "ax.set_ylabel('Mean')\n",
        "ax.set_xlabel('Features')\n",
        "ax.grid( axis='y', linestyle='--')\n",
        "\n",
        "ax.legend()\n",
        "\n",
        "plt.tight_layout()\n",
        "plt.show()"
      ]
    },
    {
      "attachments": {},
      "cell_type": "markdown",
      "id": "780a9b83",
      "metadata": {
        "id": "780a9b83"
      },
      "source": [
        "How many people in the data set have heart disease? "
      ]
    },
    {
      "cell_type": "code",
      "execution_count": 112,
      "id": "babc22fb",
      "metadata": {
        "colab": {
          "base_uri": "https://localhost:8080/"
        },
        "id": "babc22fb",
        "outputId": "3a486d6d-7e13-4291-c220-b6e6246fc39d"
      },
      "outputs": [
        {
          "data": {
            "text/plain": [
              "target\n",
              "0    3099\n",
              "1     557\n",
              "Name: count, dtype: int64"
            ]
          },
          "execution_count": 112,
          "metadata": {},
          "output_type": "execute_result"
        }
      ],
      "source": [
        "# number of patients in the data set with and without \n",
        "df['target'].value_counts()"
      ]
    },
    {
      "attachments": {},
      "cell_type": "markdown",
      "id": "4e56a56a",
      "metadata": {
        "id": "4e56a56a"
      },
      "source": [
        "As we can see, the data set is imbalanced. Only 15% have heart disease"
      ]
    },
    {
      "cell_type": "code",
      "execution_count": 113,
      "id": "95de0874",
      "metadata": {},
      "outputs": [
        {
          "data": {
            "image/png": "[encoded data removed]",
            "text/plain": [
              "<Figure size 600x600 with 1 Axes>"
            ]
          },
          "metadata": {},
          "output_type": "display_data"
        }
      ],
      "source": [
        "# Set up figure and axis objects\n",
        "fig, ax = plt.subplots(figsize=(6, 6))\n",
        "\n",
        "# Create pie chart with custom settings\n",
        "pie_settings = {\n",
        "    'labels': ['No Disease', 'Disease'],\n",
        "    'colors': [primary, info],\n",
        "    'autopct': '%1.1f%%',\n",
        "    'shadow': True,\n",
        "    'startangle': 90,\n",
        "    'textprops': {'fontsize': 14},\n",
        "    'wedgeprops': {'linewidth': 2, 'edgecolor': 'black'}\n",
        "}\n",
        "\n",
        "ax.pie(df['target'].value_counts(), **pie_settings)\n",
        "\n",
        "# Add title and legend\n",
        "ax.set_title('Heart Disease Distribution', fontsize=18)\n",
        "ax.legend(pie_settings['labels'], loc='best', fontsize=12)\n",
        "\n",
        "plt.show()\n"
      ]
    },
    {
      "attachments": {},
      "cell_type": "markdown",
      "id": "a9f23384",
      "metadata": {
        "id": "a9f23384"
      },
      "source": [
        "What is the age distribution of the data set? "
      ]
    },
    {
      "cell_type": "code",
      "execution_count": 115,
      "id": "c2269f18",
      "metadata": {},
      "outputs": [
        {
          "data": {
            "image/png": "[encoded data removed]",
            "text/plain": [
              "<Figure size 800x600 with 1 Axes>"
            ]
          },
          "metadata": {},
          "output_type": "display_data"
        }
      ],
      "source": [
        "\n",
        "# Set up figure and axis objects\n",
        "fig, ax = plt.subplots(figsize=(8, 6))\n",
        "\n",
        "# Create histogram with custom settings\n",
        "hist_settings = {\n",
        "    'bins': 10,\n",
        "    'color': primary,\n",
        "    'edgecolor': 'white',\n",
        "    'histtype': 'bar',\n",
        "    'linewidth': 1.2\n",
        "}\n",
        "ax.hist(df['age'], **hist_settings)\n",
        "\n",
        "\n",
        "# Add title and axis labels\n",
        "ax.set_title('Age Distribution', fontsize=18)\n",
        "ax.set_xlabel('Age', fontsize=14)\n",
        "ax.set_ylabel('Frequency', fontsize=14)\n",
        "\n",
        "# Add grid lines\n",
        "ax.grid(axis='y', linestyle='--')\n",
        "\n",
        "plt.show()\n"
      ]
    },
    {
      "attachments": {},
      "cell_type": "markdown",
      "id": "fc7ab233",
      "metadata": {
        "id": "fc7ab233"
      },
      "source": [
        "What are the average ages of people with and without heart disease? "
      ]
    },
    {
      "cell_type": "code",
      "execution_count": 117,
      "id": "ca0624c8",
      "metadata": {
        "colab": {
          "base_uri": "https://localhost:8080/"
        },
        "id": "ca0624c8",
        "outputId": "37b395f1-77df-43bc-fb6b-7cd62f282e0e"
      },
      "outputs": [
        {
          "name": "stdout",
          "output_type": "stream",
          "text": [
            "The average age of people with heart disease in this data set is 54.278276481149014\n",
            "The average age of people without heart disease in this data set is 48.70893836721523\n"
          ]
        }
      ],
      "source": [
        "# average age of people with heart disease in the data set\n",
        "avgAgeYes = df[df['target'] == 1]['age'].mean()\n",
        "print('The average age of people with heart disease in this data set is ' + str(avgAgeYes))\n",
        "\n",
        "# average age of people without heart disease in the data set\n",
        "avgAgeNo = df[df['target'] == 0]['age'].mean()\n",
        "print('The average age of people without heart disease in this data set is ' + str(avgAgeNo))"
      ]
    },
    {
      "attachments": {},
      "cell_type": "markdown",
      "id": "cfa43b32",
      "metadata": {
        "id": "cfa43b32"
      },
      "source": [
        "What proportion of the age groups have heart disease? "
      ]
    },
    {
      "cell_type": "code",
      "execution_count": 118,
      "id": "1a48eb9b",
      "metadata": {
        "colab": {
          "base_uri": "https://localhost:8080/"
        },
        "id": "1a48eb9b",
        "outputId": "3fc4badc-798b-4952-bd42-2743c5a20abb"
      },
      "outputs": [
        {
          "name": "stdout",
          "output_type": "stream",
          "text": [
            "target     Disease_Proportion\n",
            "age_group                    \n",
            "<40                      0.05\n",
            "40-50                    0.10\n",
            "50-60                    0.21\n",
            "60+                      0.29\n"
          ]
        }
      ],
      "source": [
        "# Create age groups\n",
        "age_bins = [0, 40, 50, 60, 70]\n",
        "age_labels = ['<40', '40-50', '50-60', '60+']\n",
        "df['age_group'] = pd.cut(df['age'], bins=age_bins, labels=age_labels)\n",
        "\n",
        "# Calculate the proportion of people with heart disease for each age group\n",
        "age_group_count = df.groupby(['age_group', 'target'])['age_group'].count().unstack()\n",
        "age_group_count['Total'] = age_group_count.sum(axis=1)\n",
        "age_group_count['Disease_Proportion'] = round(age_group_count[1] / age_group_count['Total'], 2)\n",
        "\n",
        "# Display the results\n",
        "print(age_group_count[['Disease_Proportion']])"
      ]
    },
    {
      "attachments": {},
      "cell_type": "markdown",
      "id": "a5d881ac",
      "metadata": {
        "id": "a5d881ac"
      },
      "source": [
        "Can we see any relation between education status and proportion with heart diease? "
      ]
    },
    {
      "cell_type": "code",
      "execution_count": 119,
      "id": "1838d113",
      "metadata": {
        "colab": {
          "base_uri": "https://localhost:8080/"
        },
        "id": "1838d113",
        "outputId": "62037c11-ab2d-4f09-e54e-4a0f24725ce6"
      },
      "outputs": [
        {
          "name": "stdout",
          "output_type": "stream",
          "text": [
            "education\n",
            "primaryschool    0.118983\n",
            "graduate         0.123762\n",
            "postgraduate     0.141844\n",
            "uneducated       0.190695\n",
            "Name: target, dtype: float64\n"
          ]
        }
      ],
      "source": [
        "# Calculate the proportion of people with heart disease for each education group\n",
        "prop_heart_disease = df.groupby('education')['target'].mean().sort_values()\n",
        "\n",
        "# Print the results\n",
        "print(prop_heart_disease)"
      ]
    },
    {
      "attachments": {},
      "cell_type": "markdown",
      "id": "86a0b012",
      "metadata": {
        "id": "86a0b012"
      },
      "source": [
        "The plot shows that uneducated people have a higher proportion of people with heart disease."
      ]
    },
    {
      "cell_type": "code",
      "execution_count": 147,
      "id": "128b3369",
      "metadata": {},
      "outputs": [
        {
          "data": {
            "image/png": "[encoded data removed]",
            "text/plain": [
              "<Figure size 800x600 with 1 Axes>"
            ]
          },
          "metadata": {},
          "output_type": "display_data"
        }
      ],
      "source": [
        "\n",
        "# Set up figure and axis objects\n",
        "fig, ax = plt.subplots(figsize=(8, 6))\n",
        "\n",
        "# Create bar chart with custom settings\n",
        "bar_settings = {\n",
        "    'color': secondary,\n",
        "    'edgecolor': 'white',\n",
        "}\n",
        "prop_heart_disease.plot(kind='bar', ax=ax, **bar_settings)\n",
        "\n",
        "# Set title and axis labels\n",
        "ax.set_title('Proportion of Heart Disease Cases', fontsize=18)\n",
        "ax.set_xlabel('Education', fontsize=14)\n",
        "ax.set_ylabel('Proportion', fontsize=14)\n",
        "\n",
        "# Configure ticks and grid lines\n",
        "ax.tick_params(axis='x', labelrotation=360, labelsize=12)\n",
        "ax.grid(axis='y', linestyle='--')\n",
        "\n",
        "plt.show()\n"
      ]
    },
    {
      "attachments": {},
      "cell_type": "markdown",
      "id": "0c046b17",
      "metadata": {
        "id": "0c046b17"
      },
      "source": [
        "The table below shows that smoking is associated with a higher proportion of people with heart disease for both males and females. Among non-smokers, females have a lower proportion of heart disease than males."
      ]
    },
    {
      "attachments": {},
      "cell_type": "markdown",
      "id": "1066abde",
      "metadata": {
        "id": "1066abde"
      },
      "source": [
        "# Regression Task"
      ]
    },
    {
      "cell_type": "code",
      "execution_count": 122,
      "id": "c0099bee",
      "metadata": {
        "id": "c0099bee"
      },
      "outputs": [],
      "source": [
        "# create design matrices \n",
        "formula = 'target ~ 0 + C(Gender) + age + C(education) + currentSmoker ' + \\\n",
        "           ' + cigsPerDay + BPMeds + prevalentStroke + prevalentHyp'  + \\\n",
        "           ' + diabetes + totChol + sysBP + diaBP + BMI + heartRate + glucose'\n",
        "\n",
        "Y, X = dmatrices(formula, df, return_type='dataframe')\n",
        "y = Y['target'].values\n"
      ]
    },
    {
      "attachments": {},
      "cell_type": "markdown",
      "id": "3e649f19",
      "metadata": {
        "id": "3e649f19"
      },
      "source": [
        "Plot Data- hypertension vs target? "
      ]
    },
    {
      "cell_type": "code",
      "execution_count": 123,
      "id": "78c3d669",
      "metadata": {
        "colab": {
          "base_uri": "https://localhost:8080/",
          "height": 143
        },
        "id": "78c3d669",
        "outputId": "bb059d1e-d210-4574-8874-72b899746600"
      },
      "outputs": [
        {
          "data": {
            "text/html": [
              "<div>\n",
              "<style scoped>\n",
              "    .dataframe tbody tr th:only-of-type {\n",
              "        vertical-align: middle;\n",
              "    }\n",
              "\n",
              "    .dataframe tbody tr th {\n",
              "        vertical-align: top;\n",
              "    }\n",
              "\n",
              "    .dataframe thead th {\n",
              "        text-align: right;\n",
              "    }\n",
              "</style>\n",
              "<table border=\"1\" class=\"dataframe\">\n",
              "  <thead>\n",
              "    <tr style=\"text-align: right;\">\n",
              "      <th>target</th>\n",
              "      <th>0</th>\n",
              "      <th>1</th>\n",
              "    </tr>\n",
              "    <tr>\n",
              "      <th>prevalentHyp</th>\n",
              "      <th></th>\n",
              "      <th></th>\n",
              "    </tr>\n",
              "  </thead>\n",
              "  <tbody>\n",
              "    <tr>\n",
              "      <th>0</th>\n",
              "      <td>2244</td>\n",
              "      <td>273</td>\n",
              "    </tr>\n",
              "    <tr>\n",
              "      <th>1</th>\n",
              "      <td>855</td>\n",
              "      <td>284</td>\n",
              "    </tr>\n",
              "  </tbody>\n",
              "</table>\n",
              "</div>"
            ],
            "text/plain": [
              "target           0    1\n",
              "prevalentHyp           \n",
              "0             2244  273\n",
              "1              855  284"
            ]
          },
          "execution_count": 123,
          "metadata": {},
          "output_type": "execute_result"
        }
      ],
      "source": [
        "vs_target = pd.crosstab(df['prevalentHyp'], df['target'])\n",
        "vs_target"
      ]
    },
    {
      "attachments": {},
      "cell_type": "markdown",
      "id": "d7494ed4",
      "metadata": {
        "id": "d7494ed4"
      },
      "source": [
        "Normalize columns"
      ]
    },
    {
      "cell_type": "code",
      "execution_count": 124,
      "id": "b07c3ac7",
      "metadata": {
        "colab": {
          "base_uri": "https://localhost:8080/"
        },
        "id": "b07c3ac7",
        "outputId": "2c806d5e-9190-4219-809f-627f3182e742"
      },
      "outputs": [
        {
          "data": {
            "text/plain": [
              "target\n",
              "0    3099\n",
              "1     557\n",
              "dtype: int64"
            ]
          },
          "execution_count": 124,
          "metadata": {},
          "output_type": "execute_result"
        }
      ],
      "source": [
        "total_v = vs_target.apply(sum)\n",
        "total_v"
      ]
    },
    {
      "cell_type": "code",
      "execution_count": 125,
      "id": "1ffcbae6",
      "metadata": {
        "colab": {
          "base_uri": "https://localhost:8080/",
          "height": 143
        },
        "id": "1ffcbae6",
        "outputId": "8d29ad3f-ee67-4a8b-cabe-20dffa297f0d"
      },
      "outputs": [
        {
          "data": {
            "text/html": [
              "<div>\n",
              "<style scoped>\n",
              "    .dataframe tbody tr th:only-of-type {\n",
              "        vertical-align: middle;\n",
              "    }\n",
              "\n",
              "    .dataframe tbody tr th {\n",
              "        vertical-align: top;\n",
              "    }\n",
              "\n",
              "    .dataframe thead th {\n",
              "        text-align: right;\n",
              "    }\n",
              "</style>\n",
              "<table border=\"1\" class=\"dataframe\">\n",
              "  <thead>\n",
              "    <tr style=\"text-align: right;\">\n",
              "      <th>target</th>\n",
              "      <th>0</th>\n",
              "      <th>1</th>\n",
              "    </tr>\n",
              "    <tr>\n",
              "      <th>prevalentHyp</th>\n",
              "      <th></th>\n",
              "      <th></th>\n",
              "    </tr>\n",
              "  </thead>\n",
              "  <tbody>\n",
              "    <tr>\n",
              "      <th>0</th>\n",
              "      <td>0.724105</td>\n",
              "      <td>0.490126</td>\n",
              "    </tr>\n",
              "    <tr>\n",
              "      <th>1</th>\n",
              "      <td>0.275895</td>\n",
              "      <td>0.509874</td>\n",
              "    </tr>\n",
              "  </tbody>\n",
              "</table>\n",
              "</div>"
            ],
            "text/plain": [
              "target               0         1\n",
              "prevalentHyp                    \n",
              "0             0.724105  0.490126\n",
              "1             0.275895  0.509874"
            ]
          },
          "execution_count": 125,
          "metadata": {},
          "output_type": "execute_result"
        }
      ],
      "source": [
        "vs_target /= total_v\n",
        "vs_target"
      ]
    },
    {
      "attachments": {},
      "cell_type": "markdown",
      "id": "71r2UlSGdMHT",
      "metadata": {
        "id": "71r2UlSGdMHT"
      },
      "source": [
        "We can see that the proportion of the target is higher for people with hypertension"
      ]
    },
    {
      "cell_type": "code",
      "execution_count": 146,
      "id": "7c676604",
      "metadata": {},
      "outputs": [
        {
          "data": {
            "text/plain": [
              "Text(0.5, 0, 'Prevalent Hypertension?')"
            ]
          },
          "execution_count": 146,
          "metadata": {},
          "output_type": "execute_result"
        },
        {
          "data": {
            "image/png": "[encoded data removed]",
            "text/plain": [
              "<Figure size 800x600 with 1 Axes>"
            ]
          },
          "metadata": {},
          "output_type": "display_data"
        }
      ],
      "source": [
        "# change name of columns\n",
        "fig, ax = plt.subplots(figsize=(8, 6))\n",
        "bar_settings = {\n",
        "    \"color\": [primary, secondary],\n",
        "    \"edgecolor\": \"white\"\n",
        "}\n",
        "vs_target.columns = ['No Disease', 'Disease']\n",
        "vs_target.plot(kind='bar', ax=ax, **bar_settings)\n",
        "ax.grid(axis='y', linestyle='--')\n",
        "ax.set_title('Proportion of Stroke Cases', fontsize=18)\n",
        "ax.set_xlabel('Prevalent Hypertension?', fontsize=14)\n",
        "\n"
      ]
    },
    {
      "attachments": {},
      "cell_type": "markdown",
      "id": "cf78428a",
      "metadata": {
        "id": "cf78428a"
      },
      "source": [
        "Split data into training and testing"
      ]
    },
    {
      "cell_type": "code",
      "execution_count": 128,
      "id": "8c5b90f4",
      "metadata": {
        "id": "8c5b90f4"
      },
      "outputs": [],
      "source": [
        "X_train, X_test, y_train, y_test = train_test_split(X, y, test_size=0.3, random_state=1)"
      ]
    },
    {
      "attachments": {},
      "cell_type": "markdown",
      "id": "7c37a0fd",
      "metadata": {
        "id": "7c37a0fd"
      },
      "source": [
        "Fit the Classifier"
      ]
    },
    {
      "cell_type": "code",
      "execution_count": 129,
      "id": "9b6bac46",
      "metadata": {
        "colab": {
          "base_uri": "https://localhost:8080/"
        },
        "id": "9b6bac46",
        "outputId": "dea4e706-6404-4d06-c74e-223046dddaec"
      },
      "outputs": [
        {
          "name": "stderr",
          "output_type": "stream",
          "text": [
            "c:\\Users\\resen\\AppData\\Local\\Programs\\Python\\Python311\\Lib\\site-packages\\sklearn\\linear_model\\_logistic.py:458: ConvergenceWarning: lbfgs failed to converge (status=1):\n",
            "STOP: TOTAL NO. of ITERATIONS REACHED LIMIT.\n",
            "\n",
            "Increase the number of iterations (max_iter) or scale the data as shown in:\n",
            "    https://scikit-learn.org/stable/modules/preprocessing.html\n",
            "Please also refer to the documentation for alternative solver options:\n",
            "    https://scikit-learn.org/stable/modules/linear_model.html#logistic-regression\n",
            "  n_iter_i = _check_optimize_result(\n"
          ]
        }
      ],
      "source": [
        "model = LogisticRegression()\n",
        "result = model.fit(X_train, y_train)"
      ]
    },
    {
      "attachments": {},
      "cell_type": "markdown",
      "id": "c332977a",
      "metadata": {
        "id": "c332977a"
      },
      "source": [
        "Training Accuracy"
      ]
    },
    {
      "cell_type": "code",
      "execution_count": 130,
      "id": "3cfb6cc0",
      "metadata": {
        "colab": {
          "base_uri": "https://localhost:8080/"
        },
        "id": "3cfb6cc0",
        "outputId": "2bb9707d-b305-46d9-b722-07ad2a8b1597"
      },
      "outputs": [
        {
          "name": "stdout",
          "output_type": "stream",
          "text": [
            "0.845642829230168\n"
          ]
        }
      ],
      "source": [
        "prediction_train = model.predict(X_train)\n",
        "print(metrics.accuracy_score(y_train, prediction_train))"
      ]
    },
    {
      "attachments": {},
      "cell_type": "markdown",
      "id": "575a25e2",
      "metadata": {
        "id": "575a25e2"
      },
      "source": [
        "Testing Accuracy"
      ]
    },
    {
      "cell_type": "code",
      "execution_count": 131,
      "id": "936cb28c",
      "metadata": {
        "colab": {
          "base_uri": "https://localhost:8080/"
        },
        "id": "936cb28c",
        "outputId": "45c66ea1-967b-40a0-85a0-ecfdb4ea3236"
      },
      "outputs": [
        {
          "name": "stdout",
          "output_type": "stream",
          "text": [
            "0.8614402917046491\n"
          ]
        }
      ],
      "source": [
        "prediction = model.predict(X_test)\n",
        "print(metrics.accuracy_score(y_test, prediction))"
      ]
    },
    {
      "attachments": {},
      "cell_type": "markdown",
      "id": "880849c6",
      "metadata": {
        "id": "880849c6"
      },
      "source": [
        "Baseline Accuracy"
      ]
    },
    {
      "cell_type": "code",
      "execution_count": 132,
      "id": "8f6c6d3e",
      "metadata": {
        "colab": {
          "base_uri": "https://localhost:8080/"
        },
        "id": "8f6c6d3e",
        "outputId": "7adfd00a-d350-4553-b17e-c24475b1cd43"
      },
      "outputs": [
        {
          "name": "stdout",
          "output_type": "stream",
          "text": [
            "Number of positive examples = 402\n",
            "Number of negative examples = 2157\n",
            "Number of examples where baseline is correct = 942\n",
            "Baseline accuracy = 0.8587055606198724\n"
          ]
        }
      ],
      "source": [
        "print('Number of positive examples =', len(y_train[y_train==1]))\n",
        "print('Number of negative examples =', len(y_train[y_train==0]))\n",
        "\n",
        "negative_examples_in_test = len(y_test[y_test==0])\n",
        "total_examples_in_test = len(y_test)\n",
        "\n",
        "print('Number of examples where baseline is correct =', negative_examples_in_test)\n",
        "print('Baseline accuracy =', negative_examples_in_test * 1.0 / total_examples_in_test)"
      ]
    },
    {
      "attachments": {},
      "cell_type": "markdown",
      "id": "f1b68a52",
      "metadata": {
        "id": "f1b68a52"
      },
      "source": [
        "Feature Weights"
      ]
    },
    {
      "cell_type": "code",
      "execution_count": 133,
      "id": "6596ca1b",
      "metadata": {
        "colab": {
          "base_uri": "https://localhost:8080/"
        },
        "id": "6596ca1b",
        "outputId": "57c7b8de-cace-49cc-8f1d-66e26f1238f4"
      },
      "outputs": [
        {
          "data": {
            "text/plain": [
              "array([[-5.33154172e-01,  3.00811876e-01, -7.56444937e-02,\n",
              "        -3.07514940e-01,  2.16739791e-01,  1.77331079e-02,\n",
              "        -1.00896772e-01,  9.65469066e-03,  1.00026654e-01,\n",
              "         2.07720889e-02,  5.21010644e-01,  1.12316230e-01,\n",
              "         5.97279192e-05,  2.19150714e-02, -2.93728016e-02,\n",
              "        -5.33005435e-02, -2.65496614e-02,  5.01673118e-03]])"
            ]
          },
          "execution_count": 133,
          "metadata": {},
          "output_type": "execute_result"
        }
      ],
      "source": [
        "model.coef_"
      ]
    },
    {
      "cell_type": "code",
      "execution_count": 134,
      "id": "9ebf8251",
      "metadata": {
        "colab": {
          "base_uri": "https://localhost:8080/"
        },
        "id": "9ebf8251",
        "outputId": "46d0426a-163b-4ea4-afb4-27e52f84e3af"
      },
      "outputs": [
        {
          "data": {
            "text/plain": [
              "array([-0.23249048])"
            ]
          },
          "execution_count": 134,
          "metadata": {},
          "output_type": "execute_result"
        }
      ],
      "source": [
        "model.intercept_"
      ]
    },
    {
      "cell_type": "code",
      "execution_count": 135,
      "id": "dedb60de",
      "metadata": {
        "colab": {
          "base_uri": "https://localhost:8080/"
        },
        "id": "dedb60de",
        "outputId": "b520fe25-f21d-47e4-9dbe-19e530a041fc"
      },
      "outputs": [
        {
          "data": {
            "text/plain": [
              "prevalentHyp                     0.521011\n",
              "C(Gender)[Male]                  0.300812\n",
              "C(education)[T.uneducated]       0.216740\n",
              "diabetes                         0.112316\n",
              "BPMeds                           0.100027\n",
              "sysBP                            0.021915\n",
              "prevalentStroke                  0.020772\n",
              "age                              0.017733\n",
              "cigsPerDay                       0.009655\n",
              "glucose                          0.005017\n",
              "totChol                          0.000060\n",
              "heartRate                       -0.026550\n",
              "diaBP                           -0.029373\n",
              "BMI                             -0.053301\n",
              "C(education)[T.postgraduate]    -0.075644\n",
              "currentSmoker                   -0.100897\n",
              "C(education)[T.primaryschool]   -0.307515\n",
              "C(Gender)[Female]               -0.533154\n",
              "dtype: float64"
            ]
          },
          "execution_count": 135,
          "metadata": {},
          "output_type": "execute_result"
        }
      ],
      "source": [
        "weights = Series(model.coef_[0],\n",
        "                 index=X.columns.values)\n",
        "weights.sort_values(ascending=False)"
      ]
    },
    {
      "cell_type": "code",
      "execution_count": 136,
      "id": "VcfPLdxDGtUF",
      "metadata": {
        "colab": {
          "base_uri": "https://localhost:8080/"
        },
        "id": "VcfPLdxDGtUF",
        "outputId": "b1e019d4-1f6e-4a75-afcc-7d0fbc6cd124"
      },
      "outputs": [
        {
          "data": {
            "text/plain": [
              "prevalentHyp                     1.683728\n",
              "C(Gender)[Male]                  1.350955\n",
              "C(education)[T.uneducated]       1.242021\n",
              "diabetes                         1.118867\n",
              "BPMeds                           1.105200\n",
              "sysBP                            1.022157\n",
              "prevalentStroke                  1.020989\n",
              "age                              1.017891\n",
              "cigsPerDay                       1.009701\n",
              "glucose                          1.005029\n",
              "totChol                          1.000060\n",
              "heartRate                        0.973800\n",
              "diaBP                            0.971054\n",
              "BMI                              0.948095\n",
              "C(education)[T.postgraduate]     0.927146\n",
              "currentSmoker                    0.904026\n",
              "C(education)[T.primaryschool]    0.735272\n",
              "C(Gender)[Female]                0.586751\n",
              "dtype: float64"
            ]
          },
          "execution_count": 136,
          "metadata": {},
          "output_type": "execute_result"
        }
      ],
      "source": [
        "# converting the coefficients into odds ratios\n",
        "import numpy as np\n",
        "odds_ratio = np.exp(weights)\n",
        "odds_ratio.sort_values(ascending=False)"
      ]
    },
    {
      "attachments": {},
      "cell_type": "markdown",
      "id": "ECp_k1CTG8nF",
      "metadata": {
        "id": "ECp_k1CTG8nF"
      },
      "source": [
        "An odds ratio of 1.69 for prevalent hypertension means that individuals with prevalent hypertension are 1.69 times more likely to have heart disease compared to individuals without hypertension, after adjusting for the other factors included in the logistic regression model"
      ]
    },
    {
      "attachments": {},
      "cell_type": "markdown",
      "id": "JWp6BhJtdcTb",
      "metadata": {
        "id": "JWp6BhJtdcTb"
      },
      "source": [
        "\n",
        "*   This indicates that some of the most impactful variables are: Hypertension, gender, education, currentSmoker, and diabetes.\n",
        "*   This is somewhat consistent with our prior understanding of contributing factors to heart disease, but not exactly. \n",
        "*   Why aren't variables like glucose and cholestoral at the top? "
      ]
    },
    {
      "attachments": {},
      "cell_type": "markdown",
      "id": "c6544cc9",
      "metadata": {
        "id": "c6544cc9"
      },
      "source": [
        "What if we normalized the numeric data? "
      ]
    },
    {
      "cell_type": "code",
      "execution_count": 137,
      "id": "02e7a8a9",
      "metadata": {
        "colab": {
          "base_uri": "https://localhost:8080/",
          "height": 444
        },
        "id": "02e7a8a9",
        "outputId": "a9485374-c111-4a88-d62b-144d03d41cc2"
      },
      "outputs": [
        {
          "data": {
            "text/html": [
              "<div>\n",
              "<style scoped>\n",
              "    .dataframe tbody tr th:only-of-type {\n",
              "        vertical-align: middle;\n",
              "    }\n",
              "\n",
              "    .dataframe tbody tr th {\n",
              "        vertical-align: top;\n",
              "    }\n",
              "\n",
              "    .dataframe thead th {\n",
              "        text-align: right;\n",
              "    }\n",
              "</style>\n",
              "<table border=\"1\" class=\"dataframe\">\n",
              "  <thead>\n",
              "    <tr style=\"text-align: right;\">\n",
              "      <th></th>\n",
              "      <th>Gender</th>\n",
              "      <th>education</th>\n",
              "      <th>Heart_ stroke</th>\n",
              "      <th>age_group</th>\n",
              "      <th>age</th>\n",
              "      <th>currentSmoker</th>\n",
              "      <th>cigsPerDay</th>\n",
              "      <th>BPMeds</th>\n",
              "      <th>prevalentStroke</th>\n",
              "      <th>prevalentHyp</th>\n",
              "      <th>diabetes</th>\n",
              "      <th>totChol</th>\n",
              "      <th>sysBP</th>\n",
              "      <th>diaBP</th>\n",
              "      <th>BMI</th>\n",
              "      <th>heartRate</th>\n",
              "      <th>glucose</th>\n",
              "      <th>target</th>\n",
              "    </tr>\n",
              "  </thead>\n",
              "  <tbody>\n",
              "    <tr>\n",
              "      <th>0</th>\n",
              "      <td>Male</td>\n",
              "      <td>postgraduate</td>\n",
              "      <td>No</td>\n",
              "      <td>&lt;40</td>\n",
              "      <td>0.184211</td>\n",
              "      <td>0.0</td>\n",
              "      <td>0.000000</td>\n",
              "      <td>0.0</td>\n",
              "      <td>0.0</td>\n",
              "      <td>0.0</td>\n",
              "      <td>0.0</td>\n",
              "      <td>0.168378</td>\n",
              "      <td>0.106383</td>\n",
              "      <td>0.232804</td>\n",
              "      <td>0.277024</td>\n",
              "      <td>0.363636</td>\n",
              "      <td>0.104520</td>\n",
              "      <td>0.0</td>\n",
              "    </tr>\n",
              "    <tr>\n",
              "      <th>1</th>\n",
              "      <td>Female</td>\n",
              "      <td>primaryschool</td>\n",
              "      <td>No</td>\n",
              "      <td>40-50</td>\n",
              "      <td>0.368421</td>\n",
              "      <td>0.0</td>\n",
              "      <td>0.000000</td>\n",
              "      <td>0.0</td>\n",
              "      <td>0.0</td>\n",
              "      <td>0.0</td>\n",
              "      <td>0.0</td>\n",
              "      <td>0.281314</td>\n",
              "      <td>0.177305</td>\n",
              "      <td>0.349206</td>\n",
              "      <td>0.319680</td>\n",
              "      <td>0.515152</td>\n",
              "      <td>0.101695</td>\n",
              "      <td>0.0</td>\n",
              "    </tr>\n",
              "    <tr>\n",
              "      <th>2</th>\n",
              "      <td>Male</td>\n",
              "      <td>uneducated</td>\n",
              "      <td>No</td>\n",
              "      <td>40-50</td>\n",
              "      <td>0.421053</td>\n",
              "      <td>1.0</td>\n",
              "      <td>0.285714</td>\n",
              "      <td>0.0</td>\n",
              "      <td>0.0</td>\n",
              "      <td>0.0</td>\n",
              "      <td>0.0</td>\n",
              "      <td>0.271047</td>\n",
              "      <td>0.208038</td>\n",
              "      <td>0.338624</td>\n",
              "      <td>0.237518</td>\n",
              "      <td>0.313131</td>\n",
              "      <td>0.084746</td>\n",
              "      <td>0.0</td>\n",
              "    </tr>\n",
              "    <tr>\n",
              "      <th>3</th>\n",
              "      <td>Female</td>\n",
              "      <td>graduate</td>\n",
              "      <td>yes</td>\n",
              "      <td>60+</td>\n",
              "      <td>0.763158</td>\n",
              "      <td>1.0</td>\n",
              "      <td>0.428571</td>\n",
              "      <td>0.0</td>\n",
              "      <td>0.0</td>\n",
              "      <td>1.0</td>\n",
              "      <td>0.0</td>\n",
              "      <td>0.229979</td>\n",
              "      <td>0.314421</td>\n",
              "      <td>0.497354</td>\n",
              "      <td>0.316045</td>\n",
              "      <td>0.212121</td>\n",
              "      <td>0.177966</td>\n",
              "      <td>1.0</td>\n",
              "    </tr>\n",
              "    <tr>\n",
              "      <th>4</th>\n",
              "      <td>Female</td>\n",
              "      <td>graduate</td>\n",
              "      <td>No</td>\n",
              "      <td>40-50</td>\n",
              "      <td>0.368421</td>\n",
              "      <td>1.0</td>\n",
              "      <td>0.328571</td>\n",
              "      <td>0.0</td>\n",
              "      <td>0.0</td>\n",
              "      <td>0.0</td>\n",
              "      <td>0.0</td>\n",
              "      <td>0.353183</td>\n",
              "      <td>0.219858</td>\n",
              "      <td>0.380952</td>\n",
              "      <td>0.183228</td>\n",
              "      <td>0.414141</td>\n",
              "      <td>0.127119</td>\n",
              "      <td>0.0</td>\n",
              "    </tr>\n",
              "    <tr>\n",
              "      <th>5</th>\n",
              "      <td>Female</td>\n",
              "      <td>primaryschool</td>\n",
              "      <td>No</td>\n",
              "      <td>40-50</td>\n",
              "      <td>0.289474</td>\n",
              "      <td>0.0</td>\n",
              "      <td>0.000000</td>\n",
              "      <td>0.0</td>\n",
              "      <td>0.0</td>\n",
              "      <td>1.0</td>\n",
              "      <td>0.0</td>\n",
              "      <td>0.236140</td>\n",
              "      <td>0.456265</td>\n",
              "      <td>0.656085</td>\n",
              "      <td>0.357731</td>\n",
              "      <td>0.333333</td>\n",
              "      <td>0.166667</td>\n",
              "      <td>0.0</td>\n",
              "    </tr>\n",
              "    <tr>\n",
              "      <th>6</th>\n",
              "      <td>Female</td>\n",
              "      <td>uneducated</td>\n",
              "      <td>yes</td>\n",
              "      <td>60+</td>\n",
              "      <td>0.815789</td>\n",
              "      <td>0.0</td>\n",
              "      <td>0.000000</td>\n",
              "      <td>0.0</td>\n",
              "      <td>0.0</td>\n",
              "      <td>0.0</td>\n",
              "      <td>0.0</td>\n",
              "      <td>0.188912</td>\n",
              "      <td>0.257683</td>\n",
              "      <td>0.243386</td>\n",
              "      <td>0.425836</td>\n",
              "      <td>0.161616</td>\n",
              "      <td>0.127119</td>\n",
              "      <td>1.0</td>\n",
              "    </tr>\n",
              "    <tr>\n",
              "      <th>7</th>\n",
              "      <td>Female</td>\n",
              "      <td>primaryschool</td>\n",
              "      <td>No</td>\n",
              "      <td>40-50</td>\n",
              "      <td>0.342105</td>\n",
              "      <td>1.0</td>\n",
              "      <td>0.285714</td>\n",
              "      <td>0.0</td>\n",
              "      <td>0.0</td>\n",
              "      <td>0.0</td>\n",
              "      <td>0.0</td>\n",
              "      <td>0.410678</td>\n",
              "      <td>0.078014</td>\n",
              "      <td>0.243386</td>\n",
              "      <td>0.148812</td>\n",
              "      <td>0.353535</td>\n",
              "      <td>0.107345</td>\n",
              "      <td>0.0</td>\n",
              "    </tr>\n",
              "    <tr>\n",
              "      <th>8</th>\n",
              "      <td>Male</td>\n",
              "      <td>uneducated</td>\n",
              "      <td>No</td>\n",
              "      <td>50-60</td>\n",
              "      <td>0.526316</td>\n",
              "      <td>0.0</td>\n",
              "      <td>0.000000</td>\n",
              "      <td>0.0</td>\n",
              "      <td>0.0</td>\n",
              "      <td>1.0</td>\n",
              "      <td>0.0</td>\n",
              "      <td>0.301848</td>\n",
              "      <td>0.274232</td>\n",
              "      <td>0.433862</td>\n",
              "      <td>0.262239</td>\n",
              "      <td>0.323232</td>\n",
              "      <td>0.110169</td>\n",
              "      <td>0.0</td>\n",
              "    </tr>\n",
              "    <tr>\n",
              "      <th>9</th>\n",
              "      <td>Male</td>\n",
              "      <td>uneducated</td>\n",
              "      <td>No</td>\n",
              "      <td>40-50</td>\n",
              "      <td>0.289474</td>\n",
              "      <td>1.0</td>\n",
              "      <td>0.428571</td>\n",
              "      <td>0.0</td>\n",
              "      <td>0.0</td>\n",
              "      <td>1.0</td>\n",
              "      <td>0.0</td>\n",
              "      <td>0.229979</td>\n",
              "      <td>0.371158</td>\n",
              "      <td>0.624339</td>\n",
              "      <td>0.195589</td>\n",
              "      <td>0.494949</td>\n",
              "      <td>0.135593</td>\n",
              "      <td>0.0</td>\n",
              "    </tr>\n",
              "  </tbody>\n",
              "</table>\n",
              "</div>"
            ],
            "text/plain": [
              "   Gender      education Heart_ stroke age_group       age  currentSmoker   \n",
              "0    Male   postgraduate            No       <40  0.184211            0.0  \\\n",
              "1  Female  primaryschool            No     40-50  0.368421            0.0   \n",
              "2    Male     uneducated            No     40-50  0.421053            1.0   \n",
              "3  Female       graduate           yes       60+  0.763158            1.0   \n",
              "4  Female       graduate            No     40-50  0.368421            1.0   \n",
              "5  Female  primaryschool            No     40-50  0.289474            0.0   \n",
              "6  Female     uneducated           yes       60+  0.815789            0.0   \n",
              "7  Female  primaryschool            No     40-50  0.342105            1.0   \n",
              "8    Male     uneducated            No     50-60  0.526316            0.0   \n",
              "9    Male     uneducated            No     40-50  0.289474            1.0   \n",
              "\n",
              "   cigsPerDay  BPMeds  prevalentStroke  prevalentHyp  diabetes   totChol   \n",
              "0    0.000000     0.0              0.0           0.0       0.0  0.168378  \\\n",
              "1    0.000000     0.0              0.0           0.0       0.0  0.281314   \n",
              "2    0.285714     0.0              0.0           0.0       0.0  0.271047   \n",
              "3    0.428571     0.0              0.0           1.0       0.0  0.229979   \n",
              "4    0.328571     0.0              0.0           0.0       0.0  0.353183   \n",
              "5    0.000000     0.0              0.0           1.0       0.0  0.236140   \n",
              "6    0.000000     0.0              0.0           0.0       0.0  0.188912   \n",
              "7    0.285714     0.0              0.0           0.0       0.0  0.410678   \n",
              "8    0.000000     0.0              0.0           1.0       0.0  0.301848   \n",
              "9    0.428571     0.0              0.0           1.0       0.0  0.229979   \n",
              "\n",
              "      sysBP     diaBP       BMI  heartRate   glucose  target  \n",
              "0  0.106383  0.232804  0.277024   0.363636  0.104520     0.0  \n",
              "1  0.177305  0.349206  0.319680   0.515152  0.101695     0.0  \n",
              "2  0.208038  0.338624  0.237518   0.313131  0.084746     0.0  \n",
              "3  0.314421  0.497354  0.316045   0.212121  0.177966     1.0  \n",
              "4  0.219858  0.380952  0.183228   0.414141  0.127119     0.0  \n",
              "5  0.456265  0.656085  0.357731   0.333333  0.166667     0.0  \n",
              "6  0.257683  0.243386  0.425836   0.161616  0.127119     1.0  \n",
              "7  0.078014  0.243386  0.148812   0.353535  0.107345     0.0  \n",
              "8  0.274232  0.433862  0.262239   0.323232  0.110169     0.0  \n",
              "9  0.371158  0.624339  0.195589   0.494949  0.135593     0.0  "
            ]
          },
          "execution_count": 137,
          "metadata": {},
          "output_type": "execute_result"
        }
      ],
      "source": [
        "def normalize(column):\n",
        "    return (column - column.min()) / (column.max() - column.min())\n",
        "\n",
        "# Select numeric columns only\n",
        "numeric_df = df.select_dtypes(include='number')\n",
        "\n",
        "# Apply the function to numeric columns\n",
        "normalized_df = numeric_df.apply(normalize)\n",
        "\n",
        "# Concatenate the normalized columns with the non-numeric columns\n",
        "result_df = pd.concat([df.drop(columns=numeric_df.columns), normalized_df], axis=1)\n",
        "result_df[:10]"
      ]
    },
    {
      "cell_type": "code",
      "execution_count": 138,
      "id": "c8940f64",
      "metadata": {
        "colab": {
          "base_uri": "https://localhost:8080/"
        },
        "id": "c8940f64",
        "outputId": "8808b641-251b-493b-aad0-f4e41fe1162d"
      },
      "outputs": [
        {
          "name": "stdout",
          "output_type": "stream",
          "text": [
            "Training accuracy 0.8495506057053537\n",
            "Testing accuracy 0.8587055606198724\n",
            "\n",
            "Number of positive examples = 402\n",
            "Number of negative examples = 2157\n",
            "Number of examples where baseline is correct = 942\n",
            "Baseline accuracy = 0.8587055606198724\n"
          ]
        }
      ],
      "source": [
        "# create design matrices \n",
        "formula = 'target ~ 0 + C(Gender) + age + C(education) + currentSmoker ' + \\\n",
        "           ' + cigsPerDay + BPMeds + prevalentStroke + prevalentHyp'  + \\\n",
        "           ' + diabetes + totChol + sysBP + diaBP + BMI + heartRate + glucose'\n",
        "\n",
        "Y, X = dmatrices(formula, result_df, return_type='dataframe')\n",
        "y = Y['target'].values\n",
        "\n",
        "# split data into training and testing \n",
        "X_train, X_test, y_train, y_test = train_test_split(X, y, test_size=0.3, random_state=1)\n",
        "\n",
        "# fit the model \n",
        "model = LogisticRegression()\n",
        "result = model.fit(X_train, y_train)\n",
        "\n",
        "# training accuracy \n",
        "prediction_train = model.predict(X_train)\n",
        "print('Training accuracy', metrics.accuracy_score(y_train, prediction_train))\n",
        "\n",
        "# testing accuracy \n",
        "prediction = model.predict(X_test)\n",
        "print('Testing accuracy', metrics.accuracy_score(y_test, prediction))\n",
        "\n",
        "# baseline accuracy\n",
        "print()\n",
        "print('Number of positive examples =', len(y_train[y_train==1]))\n",
        "print('Number of negative examples =', len(y_train[y_train==0]))\n",
        "negative_examples_in_test = len(y_test[y_test==0])\n",
        "total_examples_in_test = len(y_test)\n",
        "print('Number of examples where baseline is correct =', negative_examples_in_test)\n",
        "print('Baseline accuracy =', negative_examples_in_test * 1.0 / total_examples_in_test)"
      ]
    },
    {
      "cell_type": "code",
      "execution_count": 139,
      "id": "NR4tvjOygymB",
      "metadata": {
        "colab": {
          "base_uri": "https://localhost:8080/"
        },
        "id": "NR4tvjOygymB",
        "outputId": "9af42984-1350-48bc-b967-f29a053ff899"
      },
      "outputs": [
        {
          "data": {
            "text/plain": [
              "age                              2.204454\n",
              "sysBP                            2.195798\n",
              "glucose                          1.594276\n",
              "totChol                          1.368694\n",
              "cigsPerDay                       0.695932\n",
              "diaBP                            0.545916\n",
              "prevalentStroke                  0.466151\n",
              "diabetes                         0.434814\n",
              "BMI                              0.421605\n",
              "C(Gender)[Male]                  0.310555\n",
              "BPMeds                           0.267738\n",
              "prevalentHyp                     0.227181\n",
              "currentSmoker                    0.201213\n",
              "C(education)[T.uneducated]       0.030000\n",
              "C(education)[T.postgraduate]    -0.061429\n",
              "C(education)[T.primaryschool]   -0.266625\n",
              "heartRate                       -0.291778\n",
              "C(Gender)[Female]               -0.308757\n",
              "dtype: float64"
            ]
          },
          "execution_count": 139,
          "metadata": {},
          "output_type": "execute_result"
        }
      ],
      "source": [
        "# find feature weights\n",
        "weights = Series(model.coef_[0],\n",
        "                 index=X.columns.values)\n",
        "weights.sort_values(ascending=False)"
      ]
    },
    {
      "cell_type": "code",
      "execution_count": 140,
      "id": "szvf-hN2xbti",
      "metadata": {
        "colab": {
          "base_uri": "https://localhost:8080/"
        },
        "id": "szvf-hN2xbti",
        "outputId": "b7bf2cd5-de1e-4e56-fd55-9c1f3ba1a01d"
      },
      "outputs": [
        {
          "data": {
            "text/plain": [
              "age                              9.065298\n",
              "sysBP                            8.987173\n",
              "glucose                          4.924764\n",
              "totChol                          3.930213\n",
              "cigsPerDay                       2.005577\n",
              "diaBP                            1.726188\n",
              "prevalentStroke                  1.593847\n",
              "diabetes                         1.544676\n",
              "BMI                              1.524406\n",
              "C(Gender)[Male]                  1.364182\n",
              "BPMeds                           1.307005\n",
              "prevalentHyp                     1.255057\n",
              "currentSmoker                    1.222886\n",
              "C(education)[T.uneducated]       1.030454\n",
              "C(education)[T.postgraduate]     0.940420\n",
              "C(education)[T.primaryschool]    0.765960\n",
              "heartRate                        0.746934\n",
              "C(Gender)[Female]                0.734359\n",
              "dtype: float64"
            ]
          },
          "execution_count": 140,
          "metadata": {},
          "output_type": "execute_result"
        }
      ],
      "source": [
        "# Weights converted to odds ratio\n",
        "odds_ratio = np.exp(weights)\n",
        "odds_ratio.sort_values(ascending=False)"
      ]
    },
    {
      "attachments": {},
      "cell_type": "markdown",
      "id": "saMRRIaahJ5q",
      "metadata": {
        "id": "saMRRIaahJ5q"
      },
      "source": [
        "Here, we see that the most impactful features are: age, BP, glucose, cholestoral, and cigsPerDay (which is much more consistent with what we think intuitivley. Features like education are much less impactful after we normalized our data."
      ]
    },
    {
      "attachments": {},
      "cell_type": "markdown",
      "id": "4e36e352",
      "metadata": {
        "id": "4e36e352"
      },
      "source": [
        "What if we ran the model with only the most impactful variables? "
      ]
    },
    {
      "cell_type": "code",
      "execution_count": 141,
      "id": "02c616ca",
      "metadata": {
        "colab": {
          "base_uri": "https://localhost:8080/"
        },
        "id": "02c616ca",
        "outputId": "5450578a-52a9-4234-feb9-9ade98945367"
      },
      "outputs": [
        {
          "name": "stdout",
          "output_type": "stream",
          "text": [
            "0.8503321610003908\n",
            "0.8605287146763901\n",
            "Number of positive examples = 402\n",
            "Number of negative examples = 2157\n",
            "Number of examples where baseline is correct = 942\n",
            "Baseline accuracy = 0.8587055606198724\n"
          ]
        }
      ],
      "source": [
        "# create design matrices \n",
        "formula2 = 'target ~ 0 + age + sysBP + glucose + ' + \\\n",
        "           ' + totChol + cigsPerDay'\n",
        "\n",
        "Y, X = dmatrices(formula2, df, return_type='dataframe')\n",
        "y = Y['target'].values\n",
        "\n",
        "from sklearn.model_selection import train_test_split\n",
        "X_train, X_test, y_train, y_test = train_test_split(X, y, test_size=0.3, random_state=1)\n",
        "\n",
        "model = LogisticRegression()\n",
        "result = model.fit(X_train, y_train)\n",
        "\n",
        "prediction_train = model.predict(X_train)\n",
        "print(metrics.accuracy_score(y_train, prediction_train))\n",
        "\n",
        "prediction = model.predict(X_test)\n",
        "print(metrics.accuracy_score(y_test, prediction))\n",
        "\n",
        "print('Number of positive examples =', len(y_train[y_train==1]))\n",
        "print('Number of negative examples =', len(y_train[y_train==0]))\n",
        "negative_examples_in_test = len(y_test[y_test==0])\n",
        "total_examples_in_test = len(y_test)\n",
        "print('Number of examples where baseline is correct =', negative_examples_in_test)\n",
        "print('Baseline accuracy =', negative_examples_in_test * 1.0 / total_examples_in_test)"
      ]
    },
    {
      "attachments": {},
      "cell_type": "markdown",
      "id": "P9dkwpH1hgd8",
      "metadata": {
        "id": "P9dkwpH1hgd8"
      },
      "source": [
        "Our testing accuracy improved from 85% to 86% with the new model!"
      ]
    },
    {
      "cell_type": "code",
      "execution_count": 142,
      "id": "9U9NWkqGR5q9",
      "metadata": {
        "colab": {
          "base_uri": "https://localhost:8080/"
        },
        "id": "9U9NWkqGR5q9",
        "outputId": "d7adb395-83d8-4191-db39-dab09000d675"
      },
      "outputs": [
        {
          "data": {
            "text/plain": [
              "array([-8.97255779])"
            ]
          },
          "execution_count": 142,
          "metadata": {},
          "output_type": "execute_result"
        }
      ],
      "source": [
        "model.intercept_"
      ]
    },
    {
      "cell_type": "code",
      "execution_count": 143,
      "id": "RtYXsx2jSbPI",
      "metadata": {
        "colab": {
          "base_uri": "https://localhost:8080/"
        },
        "id": "RtYXsx2jSbPI",
        "outputId": "c51e2702-1a8b-4950-957f-c3ceee111c46"
      },
      "outputs": [
        {
          "data": {
            "text/plain": [
              "age           0.064053\n",
              "cigsPerDay    0.025884\n",
              "sysBP         0.017366\n",
              "glucose       0.008748\n",
              "totChol       0.002686\n",
              "dtype: float64"
            ]
          },
          "execution_count": 143,
          "metadata": {},
          "output_type": "execute_result"
        }
      ],
      "source": [
        "weights = Series(model.coef_[0],\n",
        "                 index=X.columns.values)\n",
        "weights.sort_values(ascending=False)"
      ]
    },
    {
      "cell_type": "code",
      "execution_count": 144,
      "id": "420TwFSJxxZ6",
      "metadata": {
        "colab": {
          "base_uri": "https://localhost:8080/"
        },
        "id": "420TwFSJxxZ6",
        "outputId": "cb5707be-ce75-4338-a804-225ca955b757"
      },
      "outputs": [
        {
          "data": {
            "text/plain": [
              "age           1.066149\n",
              "cigsPerDay    1.026222\n",
              "sysBP         1.017518\n",
              "glucose       1.008786\n",
              "totChol       1.002690\n",
              "dtype: float64"
            ]
          },
          "execution_count": 144,
          "metadata": {},
          "output_type": "execute_result"
        }
      ],
      "source": [
        "# Weights converted to odds ratio\n",
        "odds_ratio = np.exp(weights)\n",
        "odds_ratio.sort_values(ascending=False)"
      ]
    },
    {
      "cell_type": "code",
      "execution_count": 145,
      "id": "Wjb6tvP5IcCe",
      "metadata": {
        "colab": {
          "base_uri": "https://localhost:8080/"
        },
        "id": "Wjb6tvP5IcCe",
        "outputId": "9efe0d2c-82e5-40d4-b40e-3293aa2f835a"
      },
      "outputs": [
        {
          "name": "stdout",
          "output_type": "stream",
          "text": [
            "age           0.516008\n",
            "cigsPerDay    0.506471\n",
            "sysBP         0.504341\n",
            "glucose       0.502187\n",
            "totChol       0.500672\n",
            "dtype: float64\n"
          ]
        }
      ],
      "source": [
        "probability = odds_ratio / (1 + odds_ratio)\n",
        "\n",
        "# Display the results\n",
        "print(probability.sort_values(ascending=False))"
      ]
    },
    {
      "attachments": {},
      "cell_type": "markdown",
      "id": "IXy7Yqb9ShAJ",
      "metadata": {
        "id": "IXy7Yqb9ShAJ"
      },
      "source": [
        "age(0.064053) + cigsPerDay(0.025884) + sysBP(0.017366) + glucose(0.008748) + totChol(0.002686) - 8.97255777"
      ]
    },
    {
      "attachments": {},
      "cell_type": "markdown",
      "id": "MlYhuXYLTFqN",
      "metadata": {
        "id": "MlYhuXYLTFqN"
      },
      "source": [
        "Input values would have to be normalized"
      ]
    }
  ],
  "metadata": {
    "colab": {
      "provenance": []
    },
    "kernelspec": {
      "display_name": "Python 3 (ipykernel)",
      "language": "python",
      "name": "python3"
    },
    "language_info": {
      "codemirror_mode": {
        "name": "ipython",
        "version": 3
      },
      "file_extension": ".py",
      "mimetype": "text/x-python",
      "name": "python",
      "nbconvert_exporter": "python",
      "pygments_lexer": "ipython3",
      "version": "3.11.0"
    }
  },
  "nbformat": 4,
  "nbformat_minor": 5
}
